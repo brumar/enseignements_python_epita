{
 "cells": [
  {
   "cell_type": "markdown",
   "metadata": {
    "slideshow": {
     "slide_type": "slide"
    }
   },
   "source": [
    "# PYTHON EN 2020"
   ]
  },
  {
   "cell_type": "code",
   "execution_count": 3,
   "metadata": {
    "slideshow": {
     "slide_type": "fragment"
    }
   },
   "outputs": [
    {
     "name": "stdout",
     "output_type": "stream",
     "text": [
      "hello All EPITA\n"
     ]
    }
   ],
   "source": [
    "print(\"hello All EPITA\")"
   ]
  },
  {
   "cell_type": "markdown",
   "metadata": {
    "slideshow": {
     "slide_type": "fragment"
    }
   },
   "source": [
    "## Popularité\n",
    "\n",
    "- #3 TIOBE : https://www.tiobe.com/tiobe-index/"
   ]
  },
  {
   "cell_type": "markdown",
   "metadata": {
    "slideshow": {
     "slide_type": "subslide"
    }
   },
   "source": [
    "- Stackoverflow survey (https://insights.stackoverflow.com/survey/2019)\n",
    "    - #3 in Most Loved Languages\n",
    "    - #4 in Most Used Languages "
   ]
  },
  {
   "cell_type": "markdown",
   "metadata": {
    "slideshow": {
     "slide_type": "slide"
    }
   },
   "source": [
    "## Utilisation de python"
   ]
  },
  {
   "cell_type": "markdown",
   "metadata": {
    "slideshow": {
     "slide_type": "fragment"
    }
   },
   "source": [
    "https://www.jetbrains.com/lp/devecosystem-2020/python/\n",
    "\n",
    "![resultat psf survey](./images/survey2.png)"
   ]
  },
  {
   "cell_type": "markdown",
   "metadata": {
    "slideshow": {
     "slide_type": "subslide"
    }
   },
   "source": [
    "![resultat psf survey](./images/backend.png)"
   ]
  },
  {
   "cell_type": "markdown",
   "metadata": {
    "slideshow": {
     "slide_type": "slide"
    }
   },
   "source": [
    "# Particularités du language"
   ]
  },
  {
   "cell_type": "markdown",
   "metadata": {
    "slideshow": {
     "slide_type": "subslide"
    }
   },
   "source": [
    "Python a été conçu à partir d'un language a visée pédagogique (ABC), avec l'objectif d'être le plus facile possible à lire et écrire.\n",
    "\n",
    "Il est très lisible et facile à apprendre.\n",
    "\n",
    "Multi-Paradigme (fonctionnel, imperatif, orienté objet ...)."
   ]
  },
  {
   "cell_type": "markdown",
   "metadata": {
    "slideshow": {
     "slide_type": "fragment"
    }
   },
   "source": [
    "## Q: Language interprété ou compilé ?\n"
   ]
  },
  {
   "cell_type": "markdown",
   "metadata": {
    "slideshow": {
     "slide_type": "fragment"
    }
   },
   "source": [
    "A : Les deux"
   ]
  },
  {
   "cell_type": "markdown",
   "metadata": {
    "slideshow": {
     "slide_type": "fragment"
    }
   },
   "source": [
    "human code (.py) --> python byte code (.pyc) --> lecture par un interpreteur\n",
    "\n",
    "Similaire à Java."
   ]
  },
  {
   "cell_type": "markdown",
   "metadata": {
    "slideshow": {
     "slide_type": "subslide"
    }
   },
   "source": [
    "### Decompilation du bytecode"
   ]
  },
  {
   "cell_type": "code",
   "execution_count": 4,
   "metadata": {
    "slideshow": {
     "slide_type": "fragment"
    }
   },
   "outputs": [
    {
     "name": "stdout",
     "output_type": "stream",
     "text": [
      "  1           0 LOAD_NAME                0 (print)\n",
      "              2 LOAD_CONST               0 ('hello world')\n",
      "              4 CALL_FUNCTION            1\n",
      "              6 RETURN_VALUE\n"
     ]
    }
   ],
   "source": [
    "import dis\n",
    "dis.dis(\"print('hello world')\")"
   ]
  },
  {
   "cell_type": "markdown",
   "metadata": {
    "slideshow": {
     "slide_type": "fragment"
    }
   },
   "source": [
    "Notes : \n",
    "\n",
    "- Même lorsqu'on travaille dans un shell interactif, ce bytecode est généré puis executé\n",
    "- Ce bytecode est caché pour gagné en temps d'execution"
   ]
  },
  {
   "cell_type": "markdown",
   "metadata": {
    "slideshow": {
     "slide_type": "subslide"
    }
   },
   "source": [
    "## Interpréteurs"
   ]
  },
  {
   "cell_type": "markdown",
   "metadata": {
    "slideshow": {
     "slide_type": "fragment"
    }
   },
   "source": [
    "- Interpréteur maintenu par les core devs : **CPython**\n",
    "- Il existe des interpreteurs alternatifs (pypy, jython etc...)"
   ]
  },
  {
   "cell_type": "markdown",
   "metadata": {
    "slideshow": {
     "slide_type": "slide"
    }
   },
   "source": [
    "## Language dynamique\n",
    "On peut **tout** (ou presque) changer à la volée.\n",
    "Exemple :"
   ]
  },
  {
   "cell_type": "code",
   "execution_count": 5,
   "metadata": {
    "slideshow": {
     "slide_type": "fragment"
    }
   },
   "outputs": [
    {
     "name": "stdout",
     "output_type": "stream",
     "text": [
      "I do coffee\n"
     ]
    }
   ],
   "source": [
    "class CoffeeMachine:\n",
    "    @staticmethod\n",
    "    def do_coffee():\n",
    "        print(\"I do coffee\")\n",
    "CoffeeMachine.do_coffee()"
   ]
  },
  {
   "cell_type": "code",
   "execution_count": 6,
   "metadata": {
    "slideshow": {
     "slide_type": "fragment"
    }
   },
   "outputs": [
    {
     "name": "stdout",
     "output_type": "stream",
     "text": [
      "I do nothing\n"
     ]
    }
   ],
   "source": [
    "def do_nothing():\n",
    "    print(\"I do nothing\")\n",
    "CoffeeMachine.do_coffee = do_nothing\n",
    "CoffeeMachine.do_coffee()"
   ]
  },
  {
   "cell_type": "markdown",
   "metadata": {
    "slideshow": {
     "slide_type": "slide"
    }
   },
   "source": [
    "## Language \"haut niveau\"\n",
    "\n",
    "Par exemple, en python, on n'effectue pas d'allocation/désallocation de mémoire. Il y a un garbage collector qui fait ce travail pour nous."
   ]
  },
  {
   "cell_type": "markdown",
   "metadata": {
    "slideshow": {
     "slide_type": "slide"
    }
   },
   "source": [
    "## Language dynamiquement typé"
   ]
  },
  {
   "cell_type": "code",
   "execution_count": 7,
   "metadata": {
    "slideshow": {
     "slide_type": "fragment"
    }
   },
   "outputs": [
    {
     "name": "stdout",
     "output_type": "stream",
     "text": [
      "<class 'str'>\n"
     ]
    }
   ],
   "source": [
    "a = \"hello\"  # pas necessaire d'indiquer le type\n",
    "print(type(a))"
   ]
  },
  {
   "cell_type": "code",
   "execution_count": 8,
   "metadata": {
    "slideshow": {
     "slide_type": "fragment"
    }
   },
   "outputs": [
    {
     "name": "stdout",
     "output_type": "stream",
     "text": [
      "<class 'int'>\n"
     ]
    }
   ],
   "source": [
    "a = 5\n",
    "# reassociation du nom \"a\" à une nouvelle valeur d'un autre type\n",
    "print(type(a))"
   ]
  },
  {
   "cell_type": "code",
   "execution_count": 10,
   "metadata": {
    "slideshow": {
     "slide_type": "subslide"
    }
   },
   "outputs": [
    {
     "name": "stdout",
     "output_type": "stream",
     "text": [
      "1\n"
     ]
    }
   ],
   "source": [
    "def myfunction(an_argument_with_unknown_type):\n",
    "    print(an_argument_with_unknown_type)\n",
    "myfunction(1)"
   ]
  },
  {
   "cell_type": "code",
   "execution_count": null,
   "metadata": {
    "slideshow": {
     "slide_type": "fragment"
    }
   },
   "outputs": [],
   "source": [
    "myfunction(\"bbb\")"
   ]
  },
  {
   "cell_type": "code",
   "execution_count": 11,
   "metadata": {
    "slideshow": {
     "slide_type": "fragment"
    }
   },
   "outputs": [
    {
     "name": "stdout",
     "output_type": "stream",
     "text": [
      "['1', 2]\n"
     ]
    }
   ],
   "source": [
    "myfunction([\"1\", 2])"
   ]
  },
  {
   "cell_type": "markdown",
   "metadata": {
    "slideshow": {
     "slide_type": "slide"
    }
   },
   "source": [
    "## Pas de coertion automatique"
   ]
  },
  {
   "cell_type": "code",
   "execution_count": 12,
   "metadata": {
    "slideshow": {
     "slide_type": "fragment"
    }
   },
   "outputs": [
    {
     "name": "stdout",
     "output_type": "stream",
     "text": [
      "ab\n"
     ]
    }
   ],
   "source": [
    "print(\"a\" + \"b\")"
   ]
  },
  {
   "cell_type": "code",
   "execution_count": 13,
   "metadata": {
    "slideshow": {
     "slide_type": "fragment"
    }
   },
   "outputs": [
    {
     "ename": "TypeError",
     "evalue": "can only concatenate str (not \"int\") to str",
     "output_type": "error",
     "traceback": [
      "\u001b[0;31m---------------------------------------------------------------------------\u001b[0m",
      "\u001b[0;31mTypeError\u001b[0m                                 Traceback (most recent call last)",
      "\u001b[0;32m<ipython-input-13-d33e18980baf>\u001b[0m in \u001b[0;36m<module>\u001b[0;34m\u001b[0m\n\u001b[0;32m----> 1\u001b[0;31m \u001b[0mprint\u001b[0m\u001b[0;34m(\u001b[0m\u001b[0;34m\"a\"\u001b[0m \u001b[0;34m+\u001b[0m \u001b[0;36m1\u001b[0m\u001b[0;34m)\u001b[0m  \u001b[0;31m#TypeError: must be str,   not int\u001b[0m\u001b[0;34m\u001b[0m\u001b[0;34m\u001b[0m\u001b[0m\n\u001b[0m",
      "\u001b[0;31mTypeError\u001b[0m: can only concatenate str (not \"int\") to str"
     ]
    }
   ],
   "source": [
    "print(\"a\" + 1)  #TypeError: must be str,   not int "
   ]
  },
  {
   "cell_type": "markdown",
   "metadata": {
    "slideshow": {
     "slide_type": "fragment"
    }
   },
   "source": [
    "Contrairement à javascript ..."
   ]
  },
  {
   "cell_type": "markdown",
   "metadata": {
    "slideshow": {
     "slide_type": "slide"
    }
   },
   "source": [
    "## Autres particularités\n",
    "\n",
    "- Orienté objet : tout est objet\n",
    "- Typage optionnel (depuis python 3.6)\n",
    "- Mono thread, même en utilisant le module dédié au multithreading (!)\n",
    "- Asynchronie possible (librairies spécialisées ou utilisation des mots clefs async/await)"
   ]
  },
  {
   "cell_type": "markdown",
   "metadata": {
    "slideshow": {
     "slide_type": "slide"
    }
   },
   "source": [
    "## Comparaison avec Java\n",
    "\n",
    "quelles différences ?"
   ]
  },
  {
   "cell_type": "markdown",
   "metadata": {
    "slideshow": {
     "slide_type": "fragment"
    }
   },
   "source": [
    "![./images/comparison_java_python.png](./images/comparison_java_python.png)"
   ]
  },
  {
   "cell_type": "markdown",
   "metadata": {
    "slideshow": {
     "slide_type": "fragment"
    }
   },
   "source": [
    "Liste :\n",
    "\n",
    "- mots clef `def`\n",
    "- pas de notion de public/private\n",
    "- pas de typage obligatoire des \"variables\"\n",
    "- signature de fonction facultative (type des arguments, valeur de retour)\n",
    "- boucle for différente : `for x in iterable`\n",
    "- l'indentation (4 espaces blanc) défini les blocs\n",
    "- pas de \";\""
   ]
  },
  {
   "cell_type": "markdown",
   "metadata": {
    "slideshow": {
     "slide_type": "slide"
    }
   },
   "source": [
    "## Philosophie de python"
   ]
  },
  {
   "cell_type": "code",
   "execution_count": 14,
   "metadata": {
    "slideshow": {
     "slide_type": "subslide"
    }
   },
   "outputs": [
    {
     "name": "stdout",
     "output_type": "stream",
     "text": [
      "The Zen of Python, by Tim Peters\n",
      "\n",
      "Beautiful is better than ugly.\n",
      "Explicit is better than implicit.\n",
      "Simple is better than complex.\n",
      "Complex is better than complicated.\n",
      "Flat is better than nested.\n",
      "Sparse is better than dense.\n",
      "Readability counts.\n",
      "Special cases aren't special enough to break the rules.\n",
      "Although practicality beats purity.\n",
      "Errors should never pass silently.\n",
      "Unless explicitly silenced.\n",
      "In the face of ambiguity, refuse the temptation to guess.\n",
      "There should be one-- and preferably only one --obvious way to do it.\n",
      "Although that way may not be obvious at first unless you're Dutch.\n",
      "Now is better than never.\n",
      "Although never is often better than *right* now.\n",
      "If the implementation is hard to explain, it's a bad idea.\n",
      "If the implementation is easy to explain, it may be a good idea.\n",
      "Namespaces are one honking great idea -- let's do more of those!\n"
     ]
    }
   ],
   "source": [
    "# easter egg dans la librairie standard\n",
    "import this"
   ]
  },
  {
   "cell_type": "markdown",
   "metadata": {
    "slideshow": {
     "slide_type": "subslide"
    }
   },
   "source": [
    "- \"We are all consenting adult here\" sur l'absence de variable réellement privée.\n",
    "- \"Batteries included\" (large librairie standard, le cours n'en couvrira pas 2%).\n",
    "- Importance des tests.\n",
    "- Respect des règles de style (cf Pep8) => Black\n",
    "- Ecosystème de librairies installables de bonne qualité (https://pypi.org/)"
   ]
  },
  {
   "cell_type": "code",
   "execution_count": 15,
   "metadata": {
    "slideshow": {
     "slide_type": "subslide"
    }
   },
   "outputs": [],
   "source": [
    "# easter egg dans la librairie standard\n",
    "import antigravity"
   ]
  },
  {
   "cell_type": "markdown",
   "metadata": {
    "slideshow": {
     "slide_type": "slide"
    }
   },
   "source": [
    "## Environnement virtuel"
   ]
  },
  {
   "cell_type": "markdown",
   "metadata": {
    "slideshow": {
     "slide_type": "subslide"
    }
   },
   "source": [
    "Une des principales difficultés des débutants. \n",
    "\n",
    "Comment installer un package uploadé sur pipy.org :\n",
    "\n",
    "- `pip install django`\n",
    "- Installation globale, dans un dossier propre à la version courante de python installée sur le système\n",
    "\n",
    "**Quelle est le problème ?**"
   ]
  },
  {
   "cell_type": "markdown",
   "metadata": {
    "slideshow": {
     "slide_type": "subslide"
    }
   },
   "source": [
    "- Problèmes :\n",
    "    - On préfère des installations locales à un projet (pour obtenir et les lister avec leurs bons numéro de version)\n",
    "    - Un projet utilise une version unique de python (ex 3.7), mais plusieurs versions sont souvent installés. \n",
    "    "
   ]
  },
  {
   "cell_type": "markdown",
   "metadata": {
    "slideshow": {
     "slide_type": "subslide"
    }
   },
   "source": [
    "**Quelle est la solution ?**"
   ]
  },
  {
   "cell_type": "markdown",
   "metadata": {
    "slideshow": {
     "slide_type": "subslide"
    }
   },
   "source": [
    "- Solution : \n",
    "    - Construire un dossier propre au projet sur lequel vous travaillez ...\n",
    "    - qui \"ressemble\" à une installation \"système\" de python "
   ]
  },
  {
   "cell_type": "markdown",
   "metadata": {
    "slideshow": {
     "slide_type": "subslide"
    }
   },
   "source": [
    "- Ces dossiers s'apellent des **environnements virtuels**. \n",
    "- Ils se **génèrent** et s'**activent** avec des outils dédiés (plusieurs possibilités) \n",
    "- Lorsqu'un environnement virtuel est activé :\n",
    "    - `python` pointe vers la bonne version\n",
    "    - `python -m pip install` installe au bon endroit (dans l'environnement virtuel)"
   ]
  },
  {
   "cell_type": "markdown",
   "metadata": {
    "slideshow": {
     "slide_type": "subslide"
    }
   },
   "source": [
    "Règles à respecter dans le développement local :\n",
    "- Avoir la bonne version de python installée sur votre système.\n",
    "- Avoir créé un environnement virtuel dédié au projet.\n",
    "- Travailler (installer, executer etc...) dans un terminal dans lequel un environnement virtuel a été activé."
   ]
  },
  {
   "cell_type": "markdown",
   "metadata": {
    "slideshow": {
     "slide_type": "subslide"
    }
   },
   "source": [
    "Démonstration (dans le terminal) avec l'outil venv\n",
    "```bash\n",
    "python3 -m venv .venv --without-pip\n",
    "source .venv/bin/activate\n",
    "wget https://bootstrap.pypa.io/get-pip.py\n",
    "python3 get-pip.py\n",
    "deactivate\n",
    "source .venv/bin/activate\n",
    "```"
   ]
  },
  {
   "cell_type": "markdown",
   "metadata": {
    "slideshow": {
     "slide_type": "subslide"
    }
   },
   "source": [
    "Développer directement avec Docker : \n",
    "- Peut epargner la manipulation d'environnement virtuel\n",
    "- Mais développer devient un plus compliqué (ex: debug)\n",
    "\n",
    "Tant que c'est possible, avoir en paralèlle :\n",
    "- un environnement virtuel\n",
    "- un environnement \"dédié\" utilisant docker "
   ]
  },
  {
   "cell_type": "markdown",
   "metadata": {
    "slideshow": {
     "slide_type": "slide"
    }
   },
   "source": [
    "## Ecosystème"
   ]
  },
  {
   "cell_type": "markdown",
   "metadata": {
    "slideshow": {
     "slide_type": "subslide"
    }
   },
   "source": [
    "## Python 3\n",
    "\n",
    "- Python 3 (dernière version stable (3.9) a de nombreuses incompatibilités avec Python 2, ce qui a été mal vécu.\n",
    "- Aujourd'hui l'adoption de Python 3 est large (83% selon le PSF survey).\n",
    "- Des évolutions importantes :\n",
    "    - Meilleures performances\n",
    "    - Mots clefs async/await pour renforcer l'asynchronisme\n",
    "    - Typage optionnel\n",
    "- Guido démissionne de son poste de BDFL. Un groupe de plusieurs personnes le remplace."
   ]
  },
  {
   "cell_type": "markdown",
   "metadata": {
    "slideshow": {
     "slide_type": "subslide"
    }
   },
   "source": [
    "### Developper survey 2020\n",
    "\n",
    "![popularité de python3](./images/py3.png)"
   ]
  },
  {
   "cell_type": "markdown",
   "metadata": {
    "slideshow": {
     "slide_type": "subslide"
    }
   },
   "source": [
    "## Performances\n",
    "\n",
    "- Moindre que Java ainsi que les languages bas niveau ou/et compilés.\n",
    "- Mais integration possible avec des librairies C performantes (ex: Numpy)\n",
    "- Cython"
   ]
  },
  {
   "cell_type": "markdown",
   "metadata": {
    "slideshow": {
     "slide_type": "subslide"
    }
   },
   "source": [
    "## Ressources conseillées pour python\n",
    "\n",
    "- Installation : https://www.python.org/downloads/\n",
    "- IDEs les plus populaires :\n",
    "    - Pycharm \n",
    "    - Vscode + python plugin (pylance)\n",
    "- Selections de ressources :\n",
    "    - En ligne :\n",
    "        - http://www.sololearn.com/Play/Python\n",
    "        - https://www.diveinto.org/python3\n",
    "    - Livres conseillés :\n",
    "        - *Automate the boring stuff* (livre pour débutants)\n",
    "        - *Fluent Python* ou *Python 3 Object-Oriented Programming[...]*(plus avancé)\n",
    "    "
   ]
  },
  {
   "cell_type": "markdown",
   "metadata": {
    "slideshow": {
     "slide_type": "subslide"
    }
   },
   "source": [
    "## Ressources conseillées pour Django\n",
    "\n",
    "En ligne :\n",
    " - [Tutorial officiel](https://www.djangoproject.com/start/) ou, plus simple, celui sur [django girls](https://tutorial.djangogirls.org/en/)\n",
    " \n",
    "Livres :\n",
    "  - Two scoops of Django (pour confirmés)\n",
    "  - Obey The Testing Goat (pour les curieux ou amateurs de TDD)"
   ]
  },
  {
   "cell_type": "markdown",
   "metadata": {
    "slideshow": {
     "slide_type": "subslide"
    }
   },
   "source": [
    "## Frameworks web (selection)\n",
    "\n",
    "- Micro frameworks populaires\n",
    "    - **flask** (sync)\n",
    "    - fastapi (async)\n",
    "\n",
    "- \"Full Stack\" frameworks populaires\n",
    "    - **django** (sync -> async)\n",
    "    - **pyramid** (sync)"
   ]
  },
  {
   "cell_type": "markdown",
   "metadata": {
    "slideshow": {
     "slide_type": "subslide"
    }
   },
   "source": [
    "**note 1** : Large domination de Flask et Django, mais arrivée d'alternatives asynchrones. \n",
    "\n",
    "**note 2** : L'asynchronisme est dans la roadmap de Django mais pas de Flask."
   ]
  },
  {
   "cell_type": "markdown",
   "metadata": {
    "slideshow": {
     "slide_type": "slide"
    }
   },
   "source": [
    "## Python est installé, now what ?"
   ]
  },
  {
   "cell_type": "markdown",
   "metadata": {
    "slideshow": {
     "slide_type": "fragment"
    }
   },
   "source": [
    "**demonstration au tableau**\n",
    "\n",
    "- Dans votre terminal `$ python` invoque le REPL (shell interactif). Vous pouvez jouer avec.\n",
    "- `python --version` vous indique la version actuellement utilisée\n",
    "- Ecrire un fichier `hello.py` contenant l'instruction `print(\"hello world\")` et executer dans votre terminal `python hello.py`"
   ]
  }
 ],
 "metadata": {
  "celltoolbar": "Slideshow",
  "kernelspec": {
   "display_name": "Python 3",
   "language": "python",
   "name": "python3"
  },
  "language_info": {
   "codemirror_mode": {
    "name": "ipython",
    "version": 3
   },
   "file_extension": ".py",
   "mimetype": "text/x-python",
   "name": "python",
   "nbconvert_exporter": "python",
   "pygments_lexer": "ipython3",
   "version": "3.7.6"
  }
 },
 "nbformat": 4,
 "nbformat_minor": 2
}
