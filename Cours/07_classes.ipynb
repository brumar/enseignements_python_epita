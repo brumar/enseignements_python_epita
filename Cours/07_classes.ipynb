{
 "cells": [
  {
   "cell_type": "markdown",
   "metadata": {
    "slideshow": {
     "slide_type": "slide"
    }
   },
   "source": [
    "# Classes"
   ]
  },
  {
   "cell_type": "markdown",
   "metadata": {
    "slideshow": {
     "slide_type": "fragment"
    }
   },
   "source": [
    "Comme on l'a vu, en python, tout est objet.\n",
    "\n",
    "Les classes sont incontournables. \n",
    "\n",
    "Elles permettent de structurer \"proprement\" un projet, en encapsulant des valeurs et des fonctionnalités au sein d'une même entité."
   ]
  },
  {
   "cell_type": "markdown",
   "metadata": {
    "slideshow": {
     "slide_type": "subslide"
    }
   },
   "source": [
    "## Exemple"
   ]
  },
  {
   "cell_type": "code",
   "execution_count": null,
   "metadata": {
    "slideshow": {
     "slide_type": "subslide"
    }
   },
   "outputs": [],
   "source": [
    "class Counter:\n",
    "    def reset(self,init=0):\n",
    "        self.count = init\n",
    "    def add(self):\n",
    "        self.count += 1\n",
    "        return self.count\n",
    "    \n",
    "counter = Counter()\n",
    "counter.reset(0) \n",
    "print(counter.add())\n",
    "print(counter.add())"
   ]
  },
  {
   "cell_type": "markdown",
   "metadata": {
    "slideshow": {
     "slide_type": "fragment"
    }
   },
   "source": [
    "Commentaires :\n",
    "- Mot clef `class`\n",
    "- Les methodes sont des fonctions dont le premier argument est `self`\n",
    "- `self` represente l'objet, instance de la classe\n",
    "- `self` a des attributs, accessibles par l'opérateur `.` ils peuvent être ajoutés et modifiés **sans contraintes**\n",
    "- Une classe est instanciée par son appel (`counter = Counter()`)"
   ]
  },
  {
   "cell_type": "markdown",
   "metadata": {
    "slideshow": {
     "slide_type": "subslide"
    }
   },
   "source": [
    "Les attributs peuvent être aussi modifiés et ajoutés depuis l'objet lui même !"
   ]
  },
  {
   "cell_type": "code",
   "execution_count": null,
   "metadata": {
    "slideshow": {
     "slide_type": "fragment"
    }
   },
   "outputs": [],
   "source": [
    "obj1 = Counter()\n",
    "obj1.x = 5\n",
    "print(\"x in obj1 =\", obj1.x)"
   ]
  },
  {
   "cell_type": "markdown",
   "metadata": {
    "slideshow": {
     "slide_type": "subslide"
    }
   },
   "source": [
    "### Initialisation"
   ]
  },
  {
   "cell_type": "code",
   "execution_count": null,
   "metadata": {
    "slideshow": {
     "slide_type": "fragment"
    }
   },
   "outputs": [],
   "source": [
    "class Counter:\n",
    "    \n",
    "    def __init__(self, step=1):\n",
    "        self.step = step\n",
    "        self.count = 0\n",
    "    \n",
    "    def reset(self,init=0):\n",
    "        self.count = init\n",
    "        \n",
    "    def add(self):\n",
    "        self.count += self.step\n",
    "        return self.count\n",
    "    "
   ]
  },
  {
   "cell_type": "markdown",
   "metadata": {
    "slideshow": {
     "slide_type": "fragment"
    }
   },
   "source": [
    "`__init__`, qui se prononce \"dunder init\" est apellé au moment de l'instanciation. "
   ]
  },
  {
   "cell_type": "code",
   "execution_count": null,
   "metadata": {
    "slideshow": {
     "slide_type": "fragment"
    }
   },
   "outputs": [],
   "source": [
    "c = Counter(step=2)\n",
    "print(c.add())\n",
    "print(c.add())\n",
    "print(c.add())"
   ]
  },
  {
   "cell_type": "markdown",
   "metadata": {
    "slideshow": {
     "slide_type": "subslide"
    }
   },
   "source": [
    "**dir()** est utile pour connaître les attributs et méthodes accessibles"
   ]
  },
  {
   "cell_type": "code",
   "execution_count": null,
   "metadata": {
    "slideshow": {
     "slide_type": "fragment"
    }
   },
   "outputs": [],
   "source": [
    "print(\"Contents of Counter class:\",dir(Counter) )\n",
    "print(\"------------------------\")\n",
    "print(\"------------------------\")\n",
    "print(\"Contents of counter object:\", dir(c))"
   ]
  },
  {
   "cell_type": "markdown",
   "metadata": {
    "slideshow": {
     "slide_type": "subslide"
    }
   },
   "source": [
    "## `__dict__`"
   ]
  },
  {
   "cell_type": "markdown",
   "metadata": {
    "slideshow": {
     "slide_type": "fragment"
    }
   },
   "source": [
    "`__dict__` est le dictionnaire des attributs de l'object. \n",
    "\n",
    "On peut le consulter ou le manipuler directement."
   ]
  },
  {
   "cell_type": "code",
   "execution_count": null,
   "metadata": {
    "slideshow": {
     "slide_type": "fragment"
    }
   },
   "outputs": [],
   "source": [
    "print(c.__dict__)\n",
    "c.newattr = \"newval\"\n",
    "print(c.__dict__)\n",
    "print(c.__dict__[\"newattr\"])\n",
    "c.__dict__[\"newattr\"] = \"another val\"\n",
    "print(c.newattr)\n",
    "print(c.__dict__)"
   ]
  },
  {
   "cell_type": "markdown",
   "metadata": {
    "slideshow": {
     "slide_type": "subslide"
    }
   },
   "source": [
    "On voit ici que les attributs d'un object sont implémentés comme un dictionnaire python. Cela a des coûts en taille et en performance. \n",
    "\n",
    "Si l'ensemble des attributs possible est fixé d'avance, il est possible d'empecher python d'utiliser un dictionnaire, par l'utilisation de `__slots__`."
   ]
  },
  {
   "cell_type": "code",
   "execution_count": null,
   "metadata": {
    "slideshow": {
     "slide_type": "fragment"
    }
   },
   "outputs": [],
   "source": [
    "class Counter:\n",
    "    __slots__= (\"step\", \"count\") \n",
    "    def __init__(self, step=1):\n",
    "        self.step = step\n",
    "        self.count = 0\n",
    "    \n",
    "    def reset(self,init=0):\n",
    "        self.count = init\n",
    "        \n",
    "    def add(self):\n",
    "        self.count += self.step\n",
    "        return self.count"
   ]
  },
  {
   "cell_type": "code",
   "execution_count": null,
   "metadata": {
    "slideshow": {
     "slide_type": "subslide"
    }
   },
   "outputs": [],
   "source": [
    "Counter().__dict__   # AttributeError : 'Counter' object has no attribute '__dict__'\n",
    "Counter().newattr = \"newval\"  # AttributeError: 'Counter' object has no attribute 'newattr'"
   ]
  },
  {
   "cell_type": "markdown",
   "metadata": {
    "slideshow": {
     "slide_type": "subslide"
    }
   },
   "source": [
    "Plus d'informations [ici](https://stackoverflow.com/questions/472000/usage-of-slots)"
   ]
  },
  {
   "cell_type": "markdown",
   "metadata": {
    "slideshow": {
     "slide_type": "slide"
    }
   },
   "source": [
    "Nous reconnaissons les attributs et méthodes que nous avons défini (add, count, reset, step, `__init__`) mais aussi un certain nombres de méthodes et attributs herités du type `Object`. \n",
    "\n",
    "Ces méthodes sont utilisés selon le contexte d'utilisation de l'objet. Quelques exemples :\n",
    "\n",
    "- `__hash__()` invoqué en interne pour obtenir un hash de l'objet (utile dans le cadre de sets ou de dictionnaires)\n",
    "- `__getattribute__()` invoqué lorsqu'on recherche un attribut.\n",
    "- `__str__()` invoqué lors de str(monobjet) ou print(monobjet)\n",
    "- `__repr__()` utilisé à la place de `__str__()` si ce dernier n'est pas défini. Vise à fournir sous forme de texte une représentation plus précise que `__str__()`."
   ]
  },
  {
   "cell_type": "markdown",
   "metadata": {
    "slideshow": {
     "slide_type": "subslide"
    }
   },
   "source": [
    "Il est possible, et parfois utile, de les redéfinir soi même (`__init__` par exemple).\n",
    "\n",
    "Beaucoup d'autres dunders methodes (autre que celles déjà présentes) peuvent être définis pour augmenter les fonctionnalités de la classe :\n",
    "\n",
    "- `__getattr__` invoqué lorsqu'un attribut est introuvable\n",
    "- `__iter__` invoqué lorsqu'on veut itérer sur votre object (comme dans le cadre d'une boucle `for`)\n",
    "- `__len__` invoqué lors de `len(monobjet)`\n",
    "- `__contains__` invoqué lors de `\"x\" in monobjet`\n",
    "- `__le__`, `__eq__` ... invoqués lors de `monobjet > y`\n",
    "- `__add__`, `__iadd__` ... invoqués lors de `monobjet + y` ; `monobjet+=y`; tous les opérateurs ont leurs dunders\n",
    "- `__bytes__`, invoqué lors de `bytes(monobjet)`\n",
    "- `__bool__`, invoqués lors de `if monobjet`\n",
    "- `__getitem__`, invoqués lors de `monobjet[\"x\"]`\n",
    "..."
   ]
  },
  {
   "cell_type": "markdown",
   "metadata": {
    "slideshow": {
     "slide_type": "subslide"
    }
   },
   "source": [
    "Les dunders ne doivent pas être considérés comme des attributs ou méthodes privées. Mais plutôt comme des méthodes utiles (on les apelle d'ailleurs parfois \"magic methods\").\n",
    "\n",
    "\n",
    "Le sujet des dunder methods est riche et vaste. Liens pour en savoir plus :\n",
    "- [Documentation](https://docs.python.org/3/reference/datamodel.html) . \n",
    "- [Excellente vidéo](https://www.youtube.com/watch?v=M4gPxbo6G6k) de l'auteur du livre du livre Fluent Python, portant notamment sur l'utilité des dunders."
   ]
  },
  {
   "cell_type": "markdown",
   "metadata": {
    "slideshow": {
     "slide_type": "subslide"
    }
   },
   "source": [
    "## Heritage"
   ]
  },
  {
   "cell_type": "markdown",
   "metadata": {
    "slideshow": {
     "slide_type": "fragment"
    }
   },
   "source": [
    "Python suporte l'héritage"
   ]
  },
  {
   "cell_type": "code",
   "execution_count": null,
   "metadata": {
    "slideshow": {
     "slide_type": "fragment"
    }
   },
   "outputs": [],
   "source": [
    "class Person:\n",
    "    newatr = \"newval\"\n",
    "    def __init__(self, name):\n",
    "        self.name = name \n",
    "    \n",
    "    def say_hello(self):\n",
    "        print(\"hello\")"
   ]
  },
  {
   "cell_type": "code",
   "execution_count": null,
   "metadata": {
    "slideshow": {
     "slide_type": "subslide"
    }
   },
   "outputs": [],
   "source": [
    "class Developper(Person):\n",
    "    \n",
    "    def code(self):\n",
    "        print(\"I code\")"
   ]
  },
  {
   "cell_type": "code",
   "execution_count": null,
   "metadata": {
    "slideshow": {
     "slide_type": "fragment"
    }
   },
   "outputs": [],
   "source": [
    "tom = Developper(\"tom\")\n",
    "tom.code()\n",
    "tom.say_hello()\n",
    "print(tom.name)"
   ]
  },
  {
   "cell_type": "markdown",
   "metadata": {
    "slideshow": {
     "slide_type": "subslide"
    }
   },
   "source": [
    "## Heritage multiple"
   ]
  },
  {
   "cell_type": "markdown",
   "metadata": {
    "slideshow": {
     "slide_type": "fragment"
    }
   },
   "source": [
    "L'héritage multiple est possible"
   ]
  },
  {
   "cell_type": "code",
   "execution_count": null,
   "metadata": {
    "slideshow": {
     "slide_type": "fragment"
    }
   },
   "outputs": [],
   "source": [
    "class YiellingAbility:\n",
    "    def yell(self):\n",
    "        print(\"AHHHHHHHHH\")\n",
    " \n",
    "class Developper(Person, YiellingAbility):\n",
    "    def code(self):\n",
    "        print(\"I code\")"
   ]
  },
  {
   "cell_type": "code",
   "execution_count": null,
   "metadata": {
    "slideshow": {
     "slide_type": "fragment"
    }
   },
   "outputs": [],
   "source": [
    "tom = Developper(\"tom\")\n",
    "tom.yell()  "
   ]
  },
  {
   "cell_type": "markdown",
   "metadata": {
    "slideshow": {
     "slide_type": "subslide"
    }
   },
   "source": [
    "## Descriptors"
   ]
  },
  {
   "cell_type": "markdown",
   "metadata": {
    "slideshow": {
     "slide_type": "fragment"
    }
   },
   "source": [
    "Résumé grossier (https://docs.python.org/3.7/howto/descriptor.html pour en savoir plus)\n",
    "\n",
    "On peut controller ce qu'il se passe lorsqu'on utilise `object.attribute` dans differents contextes :\n",
    "- accès\n",
    "- suppression\n",
    "- modification"
   ]
  },
  {
   "cell_type": "markdown",
   "metadata": {
    "slideshow": {
     "slide_type": "subslide"
    }
   },
   "source": [
    "**Exemple** (source : https://docs.python.org/3.7/howto/descriptor.html )"
   ]
  },
  {
   "cell_type": "code",
   "execution_count": null,
   "metadata": {
    "slideshow": {
     "slide_type": "fragment"
    }
   },
   "outputs": [],
   "source": [
    "class RevealAccess:\n",
    "    \"\"\"A data descriptor that sets and returns values\n",
    "       normally and prints a message logging their access.\n",
    "    \"\"\"\n",
    "\n",
    "    def __init__(self, initval=None, name='var'):\n",
    "        self.val = initval\n",
    "        self.name = name\n",
    "\n",
    "    def __get__(self, obj, objtype):\n",
    "        print('Retrieving', self.name)\n",
    "        return self.val\n",
    "\n",
    "    def __set__(self, obj, val):\n",
    "        print('Updating', self.name)\n",
    "        self.val = val\n",
    "\n",
    "class MyClass:\n",
    "    x = RevealAccess(10, 'var \"x\"')\n",
    "    y = 5"
   ]
  },
  {
   "cell_type": "code",
   "execution_count": null,
   "metadata": {
    "slideshow": {
     "slide_type": "subslide"
    }
   },
   "outputs": [],
   "source": [
    "m = MyClass()\n",
    "print(m.x)\n",
    "m.x = 20\n",
    "m.x\n",
    "m.y"
   ]
  },
  {
   "cell_type": "markdown",
   "metadata": {
    "slideshow": {
     "slide_type": "subslide"
    }
   },
   "source": [
    "On peut créer soi même des descriptors, ou utiliser des raccourcis pour produire le comportement souhaité. Un raccourci fréquemment utilisé est l'utilisation du decorateur `@property`"
   ]
  },
  {
   "cell_type": "code",
   "execution_count": null,
   "metadata": {
    "slideshow": {
     "slide_type": "fragment"
    }
   },
   "outputs": [],
   "source": [
    "# source : https://www.programiz.com/python-programming/property\n",
    "\n",
    "class Celsius:\n",
    "    def __init__(self, temperature = 0):\n",
    "        self._temperature = temperature\n",
    "\n",
    "    def to_fahrenheit(self):\n",
    "        return (self.temperature * 1.8) + 32\n",
    "\n",
    "    @property\n",
    "    def temperature(self):\n",
    "        print(\"Getting value\")\n",
    "        return self._temperature\n",
    "\n",
    "    @temperature.setter\n",
    "    def temperature(self, value): \n",
    "        if value < -273:\n",
    "            raise ValueError(\"Temperature below -273 is not possible\")\n",
    "        print(\"Setting value\")\n",
    "        self._temperature = value"
   ]
  },
  {
   "cell_type": "code",
   "execution_count": null,
   "metadata": {
    "slideshow": {
     "slide_type": "subslide"
    }
   },
   "outputs": [],
   "source": [
    "temp = Celsius(120)"
   ]
  },
  {
   "cell_type": "code",
   "execution_count": null,
   "metadata": {
    "slideshow": {
     "slide_type": "fragment"
    }
   },
   "outputs": [],
   "source": [
    "temp.temperature"
   ]
  },
  {
   "cell_type": "code",
   "execution_count": null,
   "metadata": {
    "slideshow": {
     "slide_type": "fragment"
    }
   },
   "outputs": [],
   "source": [
    "temp.temperature = -275"
   ]
  },
  {
   "cell_type": "markdown",
   "metadata": {
    "slideshow": {
     "slide_type": "subslide"
    }
   },
   "source": [
    "Résumé sur l'accès aux attributs :\n",
    "   - Python permet de maitriser très finement ce qui se passe lors de l'accès et la modification d'attributs (a = x.y ou x.y = a)\n",
    "   - Il y a des couches avant/après l'accès au véritable attribut qu'on peut manipuler\n",
    "   - Une possibilité est l'utilisation de descripteurs\n",
    "   - Il est aussi possible d'implémenter `__getattr__` (en aval, si l'attribut rechercé n'est pas trouvé) et/ou `__get_attribute__` (en amont, apellé dans tous les cas)."
   ]
  },
  {
   "cell_type": "markdown",
   "metadata": {
    "slideshow": {
     "slide_type": "slide"
    }
   },
   "source": [
    "## Les dunders contrôlant l'accès aux attributs"
   ]
  },
  {
   "cell_type": "markdown",
   "metadata": {
    "slideshow": {
     "slide_type": "subslide"
    }
   },
   "source": [
    "La recherche d'attribut va de fallbacks en fallbacks : \n",
    "   - d'abord dans les attributs de l'objet, puis les attributs de sa classe, puis classe mère. etc...\n",
    "   - Les dunders get_attr et get_attribute permettent de se brancher à différents endroits dans cette recherche\n",
    "   - get_attr est apellé **avant** toute recherche\n",
    "   - get_attribute est apellé **après** la recherche d'attribut dans l'objet (s'il ne le trouve pas) et **avant** la recherche dans les attributs de classes."
   ]
  },
  {
   "cell_type": "markdown",
   "metadata": {
    "slideshow": {
     "slide_type": "slide"
    }
   },
   "source": [
    "En js o.c est équivalent en o[\"c\"]\n",
    "Pas en python. Ce sont deux méthodes d'accès différentes.\n",
    "\n",
    "Supposons qu'on aimerait une structure de données plus proche de l'objet javascript. On voudrait une classe qui : \n",
    "- S'instancie exactement comme un dictionnaire\n",
    "- Mais qui permette d'accéder aux clefs par attributs (x.y)."
   ]
  },
  {
   "cell_type": "code",
   "execution_count": null,
   "metadata": {
    "slideshow": {
     "slide_type": "slide"
    }
   },
   "outputs": [],
   "source": [
    "class Bunch:\n",
    "    def __init__(self, *args, **kwargs):\n",
    "        self._dict = dict(*args, **kwargs)\n",
    "        \n",
    "    def __getattr__(self, attribute):\n",
    "        return self._dict[attribute]"
   ]
  },
  {
   "cell_type": "code",
   "execution_count": null,
   "metadata": {
    "slideshow": {
     "slide_type": "fragment"
    }
   },
   "outputs": [],
   "source": [
    "bunch = Bunch(a=\"a\")"
   ]
  },
  {
   "cell_type": "code",
   "execution_count": null,
   "metadata": {
    "slideshow": {
     "slide_type": "fragment"
    }
   },
   "outputs": [],
   "source": [
    "bunch.a"
   ]
  },
  {
   "cell_type": "code",
   "execution_count": null,
   "metadata": {
    "slideshow": {
     "slide_type": "subslide"
    }
   },
   "outputs": [],
   "source": [
    "bunch[\"a\"]"
   ]
  },
  {
   "cell_type": "markdown",
   "metadata": {
    "slideshow": {
     "slide_type": "fragment"
    }
   },
   "source": [
    "Comment pourrait-on rendre possible"
   ]
  },
  {
   "cell_type": "code",
   "execution_count": null,
   "metadata": {
    "slideshow": {
     "slide_type": "subslide"
    }
   },
   "outputs": [],
   "source": [
    "class Bunch:\n",
    "    def __init__(self, *args, **kwargs):\n",
    "        self._dict = dict(*args, **kwargs)\n",
    "        \n",
    "    def __getattr__(self, attribute):\n",
    "        return self._dict[attribute]\n",
    "\n",
    "    def __getitem__(self, key):\n",
    "        return self._dict[key]"
   ]
  },
  {
   "cell_type": "code",
   "execution_count": null,
   "metadata": {
    "slideshow": {
     "slide_type": "fragment"
    }
   },
   "outputs": [],
   "source": [
    "bunch = Bunch(a=\"a\")\n",
    "bunch.a == bunch[\"a\"]"
   ]
  },
  {
   "cell_type": "markdown",
   "metadata": {
    "slideshow": {
     "slide_type": "subslide"
    }
   },
   "source": [
    "Ou encore"
   ]
  },
  {
   "cell_type": "code",
   "execution_count": null,
   "metadata": {
    "slideshow": {
     "slide_type": "fragment"
    }
   },
   "outputs": [],
   "source": [
    "class Bunch:\n",
    "    def __init__(self, *args, **kwargs):\n",
    "        self._dict = dict(*args, **kwargs)\n",
    "        \n",
    "    def __getattr__(self, attribute):\n",
    "        return self._dict[attribute]\n",
    "\n",
    "    __getitem__=__getattr__"
   ]
  }
 ],
 "metadata": {
  "celltoolbar": "Slideshow",
  "kernelspec": {
   "display_name": "Python 3",
   "language": "python",
   "name": "python3"
  },
  "language_info": {
   "codemirror_mode": {
    "name": "ipython",
    "version": 3
   },
   "file_extension": ".py",
   "mimetype": "text/x-python",
   "name": "python",
   "nbconvert_exporter": "python",
   "pygments_lexer": "ipython3",
   "version": "3.7.6"
  }
 },
 "nbformat": 4,
 "nbformat_minor": 1
}
