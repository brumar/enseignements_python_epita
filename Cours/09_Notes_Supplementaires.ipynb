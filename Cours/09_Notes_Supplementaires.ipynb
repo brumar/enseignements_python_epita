{
 "cells": [
  {
   "cell_type": "code",
   "execution_count": 77,
   "metadata": {
    "slideshow": {
     "slide_type": "slide"
    }
   },
   "outputs": [
    {
     "data": {
      "text/plain": [
       "<generator object <genexpr> at 0x7fbdd0cd2048>"
      ]
     },
     "execution_count": 77,
     "metadata": {},
     "output_type": "execute_result"
    }
   ],
   "source": [
    "(1 for i in [1, 2, 7] if i==7)"
   ]
  },
  {
   "cell_type": "markdown",
   "metadata": {
    "slideshow": {
     "slide_type": "slide"
    }
   },
   "source": [
    "Correction du TD 1\n",
    "https://colab.research.google.com/drive/12HX8Hytszb81gagT6cws6S9XQgY1IqQO"
   ]
  },
  {
   "cell_type": "markdown",
   "metadata": {
    "slideshow": {
     "slide_type": "slide"
    }
   },
   "source": [
    "# Iterables"
   ]
  },
  {
   "cell_type": "markdown",
   "metadata": {
    "slideshow": {
     "slide_type": "fragment"
    }
   },
   "source": [
    "- Definition : quelque chose sur lequel on peut itérer\n",
    "- Nature : abstraite, un iterable peut être une liste, un générateur etc...\n",
    "- Utilisation \"automatique\" : `for x in mon_iterable`"
   ]
  },
  {
   "cell_type": "markdown",
   "metadata": {
    "slideshow": {
     "slide_type": "slide"
    }
   },
   "source": [
    "Que se passe t-il derrière `for x in mon_iterable:` ?\n",
    "- Python apelle iter(mon_iterable)\n",
    "    - necessite la définition `mon_iterable.__iter__`\n",
    "- Il obtient un iterator\n",
    "    - Qu'il utilise avec next(iterator)\n",
    "    - Necessite la définition `iterator.__next__`"
   ]
  },
  {
   "cell_type": "markdown",
   "metadata": {
    "slideshow": {
     "slide_type": "slide"
    }
   },
   "source": [
    "## Demonstration"
   ]
  },
  {
   "cell_type": "code",
   "execution_count": 78,
   "metadata": {
    "slideshow": {
     "slide_type": "fragment"
    }
   },
   "outputs": [],
   "source": [
    "from collections.abc import Iterable\n",
    "an_iterable = range(1, 10**100)"
   ]
  },
  {
   "cell_type": "code",
   "execution_count": 79,
   "metadata": {
    "slideshow": {
     "slide_type": "fragment"
    }
   },
   "outputs": [
    {
     "name": "stdout",
     "output_type": "stream",
     "text": [
      "True\n",
      "True\n"
     ]
    }
   ],
   "source": [
    "print(isinstance(an_iterable, Iterable))\n",
    "print(hasattr(an_iterable, \"__iter__\"))"
   ]
  },
  {
   "cell_type": "code",
   "execution_count": 81,
   "metadata": {
    "slideshow": {
     "slide_type": "slide"
    }
   },
   "outputs": [
    {
     "name": "stdout",
     "output_type": "stream",
     "text": [
      "<class 'longrange_iterator'>\n",
      "True\n"
     ]
    }
   ],
   "source": [
    "an_iterator = iter(an_iterable)\n",
    "print(type(an_iterator))\n",
    "print(hasattr(an_iterator, \"__next__\"))"
   ]
  },
  {
   "cell_type": "code",
   "execution_count": 86,
   "metadata": {
    "slideshow": {
     "slide_type": "fragment"
    }
   },
   "outputs": [
    {
     "name": "stdout",
     "output_type": "stream",
     "text": [
      "9\n",
      "10\n"
     ]
    }
   ],
   "source": [
    "print(next(an_iterator))\n",
    "print(next(an_iterator))   "
   ]
  },
  {
   "cell_type": "markdown",
   "metadata": {
    "slideshow": {
     "slide_type": "slide"
    }
   },
   "source": [
    "# Comment faire ses propres iterables"
   ]
  },
  {
   "cell_type": "markdown",
   "metadata": {
    "slideshow": {
     "slide_type": "fragment"
    }
   },
   "source": [
    "- Solution coûteuse : Implémenter `__iter__` retournant un objet implémentant `__next__` (et qui soulève l'exception `StopIteration` lorsqu'il n'y a plus d'elements) \n",
    "- Solution simple et pratique : **Composer son iterateur à partir d'un (ou plusieurs) autres**. Quatre possibilités : \n",
    "    - Utiliser iter sur un autre iterateur\n",
    "    - Utiliser yield\n",
    "    - Utiliser un \"Generator Expression\"\n",
    "    - Utiliser itertools pour une solution éléguante à un cas plus complexe"
   ]
  },
  {
   "cell_type": "code",
   "execution_count": 87,
   "metadata": {
    "slideshow": {
     "slide_type": "slide"
    }
   },
   "outputs": [],
   "source": [
    "class StudentsClass:\n",
    "    def __init__(self, promotion, students_list=[]):\n",
    "        self.promotion = promotion\n",
    "        self.students_list = students_list\n",
    "    \n",
    "    def __iter__(self):\n",
    "        return iter(self.students_list)\n",
    "        # comme self.students_list est un iterable, on peut l'utiliser directement"
   ]
  },
  {
   "cell_type": "code",
   "execution_count": 88,
   "metadata": {
    "slideshow": {
     "slide_type": "fragment"
    }
   },
   "outputs": [
    {
     "name": "stdout",
     "output_type": "stream",
     "text": [
      "Joe\n",
      "Tom\n",
      "Lila\n"
     ]
    }
   ],
   "source": [
    "myclass = StudentsClass(\"epitaMTI\", [\"Joe\", \"Tom\", \"Lila\"])\n",
    "for s in myclass:\n",
    "    print(s) "
   ]
  },
  {
   "cell_type": "markdown",
   "metadata": {
    "slideshow": {
     "slide_type": "slide"
    }
   },
   "source": [
    "**Question** : Comment faire en sorte d'éviter certains étudiants (manquants ?)"
   ]
  },
  {
   "cell_type": "code",
   "execution_count": null,
   "metadata": {
    "slideshow": {
     "slide_type": "fragment"
    }
   },
   "outputs": [],
   "source": [
    "class StudentsClass:\n",
    "    def __init__(self, promotion, students_list=[]):\n",
    "        self.promotion = promotion\n",
    "        self.students_list = students_list\n",
    "        self.missing_students = []\n",
    "        \n",
    "    def add_missing_student(self, stud):\n",
    "        self.missing_students.append(stud)\n",
    "\n",
    "myclass = StudentsClass(\"epitaMTI\", [\"Joe\", \"Tom\", \"Lila\"])\n",
    "myclass.add_missing_student(\"Tom\")\n",
    "\n",
    "# COMMENT implémenter__iter__ de telle sorte que Tom soit évité lorsque j'itère sur myclass ?"
   ]
  },
  {
   "cell_type": "code",
   "execution_count": 89,
   "metadata": {
    "slideshow": {
     "slide_type": "slide"
    }
   },
   "outputs": [
    {
     "name": "stdout",
     "output_type": "stream",
     "text": [
      "Joe\n",
      "Lila\n"
     ]
    }
   ],
   "source": [
    "class StudentsClass:\n",
    "    def __init__(self, promotion, students_list=[]):\n",
    "        self.promotion = promotion\n",
    "        self.students_list = students_list\n",
    "        self.missing_students = []\n",
    "        \n",
    "    def add_missing_student(self, stud):\n",
    "        self.missing_students.append(stud)\n",
    "    \n",
    "    def __iter__(self):\n",
    "        for s in self.students_list:\n",
    "            if s not in self.missing_students:\n",
    "                yield s\n",
    "\n",
    "myclass = StudentsClass(\"epitaMTI\", [\"Joe\", \"Tom\", \"Lila\"])\n",
    "myclass.add_missing_student(\"Tom\")\n",
    "for s in myclass:\n",
    "    print(s)"
   ]
  },
  {
   "cell_type": "markdown",
   "metadata": {
    "slideshow": {
     "slide_type": "slide"
    }
   },
   "source": [
    "Le mot clef `yield` permet de produire une fonction retournant un iterable (sans se soucier de produire plus manuellement un iterator)"
   ]
  },
  {
   "cell_type": "code",
   "execution_count": 91,
   "metadata": {
    "slideshow": {
     "slide_type": "fragment"
    }
   },
   "outputs": [
    {
     "name": "stdout",
     "output_type": "stream",
     "text": [
      "0.9103787584229137\n"
     ]
    }
   ],
   "source": [
    "import random\n",
    "print(random.random()) "
   ]
  },
  {
   "cell_type": "code",
   "execution_count": 92,
   "metadata": {
    "slideshow": {
     "slide_type": "fragment"
    }
   },
   "outputs": [],
   "source": [
    "def generate_random_numbers(nmax):\n",
    "    for n in range(nmax):\n",
    "        yield random.random()"
   ]
  },
  {
   "cell_type": "code",
   "execution_count": 94,
   "metadata": {
    "slideshow": {
     "slide_type": "fragment"
    }
   },
   "outputs": [
    {
     "name": "stdout",
     "output_type": "stream",
     "text": [
      "0.38577708364717334\n",
      "0.3028644864352894\n",
      "0.12197267840179427\n",
      "0.8524456423881616\n",
      "0.35997503107178586\n",
      "0.5399496816555354\n",
      "0.8595114238876492\n",
      "0.3085077400869778\n",
      "0.8993106941110315\n",
      "0.9243726758835481\n"
     ]
    }
   ],
   "source": [
    "type(generate_random_numbers(10))\n",
    "for d in generate_random_numbers(10):\n",
    "    print(d)"
   ]
  },
  {
   "cell_type": "markdown",
   "metadata": {
    "slideshow": {
     "slide_type": "fragment"
    }
   },
   "source": [
    "`generate_random_numbers` n'est pas une fonction comme les autres. La présence du mot clef `yield` implique qu'elle va produire un generateur."
   ]
  },
  {
   "cell_type": "markdown",
   "metadata": {
    "slideshow": {
     "slide_type": "slide"
    }
   },
   "source": [
    "Solution alternative : produire un iterable à partir de range.\n",
    "\n",
    "Fonctionne comme les list comprehension, mais la présence de parenthèses permet de construire un iterable."
   ]
  },
  {
   "cell_type": "code",
   "execution_count": 96,
   "metadata": {
    "slideshow": {
     "slide_type": "fragment"
    }
   },
   "outputs": [
    {
     "name": "stdout",
     "output_type": "stream",
     "text": [
      "<class 'generator'>\n"
     ]
    }
   ],
   "source": [
    "def generate_random_numbers(nmax):\n",
    "    return (random.random() for _ in range(nmax))\n",
    "print(type(generate_random_numbers(10)))"
   ]
  },
  {
   "cell_type": "code",
   "execution_count": 97,
   "metadata": {
    "slideshow": {
     "slide_type": "fragment"
    }
   },
   "outputs": [
    {
     "name": "stdout",
     "output_type": "stream",
     "text": [
      "0.7971291664332676\n",
      "0.5931062701660499\n",
      "0.3311016632593503\n",
      "0.055763759699406834\n",
      "0.31328349274397627\n",
      "0.4564649281260915\n",
      "0.21906698974154348\n",
      "0.8285566437382955\n",
      "0.8416863661984281\n",
      "0.9395818416366785\n"
     ]
    }
   ],
   "source": [
    "for f in generate_random_numbers(10):\n",
    "    print(f)"
   ]
  },
  {
   "cell_type": "markdown",
   "metadata": {
    "slideshow": {
     "slide_type": "slide"
    }
   },
   "source": [
    "Comparaison avec les listes:\n",
    "\n",
    "- generate_random_numbers(10) se comporte comme une liste dans le cadre d'une boucle for\n",
    "- mais les 10 éléments n'auront jamais été chargé en mémoire en même temps (un par un)"
   ]
  },
  {
   "cell_type": "markdown",
   "metadata": {
    "slideshow": {
     "slide_type": "fragment"
    }
   },
   "source": [
    "Pour aller plus loin. Le module [itertools](https://docs.python.org/3.7/library/itertools.html) offre un large pannel d'operations sur les iterables (cycler, combiner, permuter, filtrer, produit cartésien etc...)"
   ]
  },
  {
   "cell_type": "markdown",
   "metadata": {
    "slideshow": {
     "slide_type": "slide"
    }
   },
   "source": [
    "# Les dangers des valeurs par défaut"
   ]
  },
  {
   "cell_type": "markdown",
   "metadata": {
    "slideshow": {
     "slide_type": "fragment"
    }
   },
   "source": [
    "Rappel"
   ]
  },
  {
   "cell_type": "code",
   "execution_count": 98,
   "metadata": {
    "slideshow": {
     "slide_type": "fragment"
    }
   },
   "outputs": [
    {
     "name": "stdout",
     "output_type": "stream",
     "text": [
      "5\n",
      "10\n"
     ]
    }
   ],
   "source": [
    "def add(a, b=0):\n",
    "    return a + b\n",
    "\n",
    "print(add(5))\n",
    "print(add(5, 5))"
   ]
  },
  {
   "cell_type": "code",
   "execution_count": 99,
   "metadata": {
    "slideshow": {
     "slide_type": "subslide"
    }
   },
   "outputs": [],
   "source": [
    "def add(a, b=1+1):\n",
    "    return a + b"
   ]
  },
  {
   "cell_type": "code",
   "execution_count": 100,
   "metadata": {
    "slideshow": {
     "slide_type": "fragment"
    }
   },
   "outputs": [
    {
     "data": {
      "text/plain": [
       "2"
      ]
     },
     "execution_count": 100,
     "metadata": {},
     "output_type": "execute_result"
    }
   ],
   "source": [
    "add.__defaults__[0]"
   ]
  },
  {
   "cell_type": "markdown",
   "metadata": {
    "slideshow": {
     "slide_type": "fragment"
    }
   },
   "source": [
    "La valeur par défaut est évaluée et stockée dans `add.__defaults__` dès l'interprétation de la fonction (pas au moment de l'execution)"
   ]
  },
  {
   "cell_type": "markdown",
   "metadata": {
    "slideshow": {
     "slide_type": "subslide"
    }
   },
   "source": [
    "Cela peut avoir des comportements suprenants"
   ]
  },
  {
   "cell_type": "code",
   "execution_count": 101,
   "metadata": {
    "slideshow": {
     "slide_type": "fragment"
    }
   },
   "outputs": [],
   "source": [
    "from datetime import datetime\n",
    "def some_operation_on_dates(a_date, now=datetime.now()):\n",
    "    pass"
   ]
  },
  {
   "cell_type": "code",
   "execution_count": 102,
   "metadata": {
    "slideshow": {
     "slide_type": "fragment"
    }
   },
   "outputs": [
    {
     "data": {
      "text/plain": [
       "datetime.datetime(2019, 3, 18, 15, 46, 38, 926773)"
      ]
     },
     "execution_count": 102,
     "metadata": {},
     "output_type": "execute_result"
    }
   ],
   "source": [
    "some_operation_on_dates.__defaults__[0]"
   ]
  },
  {
   "cell_type": "markdown",
   "metadata": {
    "slideshow": {
     "slide_type": "fragment"
    }
   },
   "source": [
    "Donc, même si la fonction est apellée tardivement, la valeur par défaut sera toujours `datetime.datetime(2019, 3, 18, 10, 26, 26, 257275)` "
   ]
  },
  {
   "cell_type": "markdown",
   "metadata": {
    "slideshow": {
     "slide_type": "subslide"
    }
   },
   "source": [
    "**Solution ?**"
   ]
  },
  {
   "cell_type": "code",
   "execution_count": null,
   "metadata": {
    "slideshow": {
     "slide_type": "fragment"
    }
   },
   "outputs": [],
   "source": [
    "def some_operation_on_dates(a_date, now=None):\n",
    "    if now is None: \n",
    "        now = datetime.now()\n",
    "    pass"
   ]
  },
  {
   "cell_type": "markdown",
   "metadata": {
    "slideshow": {
     "slide_type": "fragment"
    }
   },
   "source": [
    "A retenir : La valeur par défaut est définie lors de l'interpretation de la fonction et est stockée dans `__defaults__`"
   ]
  },
  {
   "cell_type": "markdown",
   "metadata": {
    "slideshow": {
     "slide_type": "subslide"
    }
   },
   "source": [
    "## Retour sur le problème du bus"
   ]
  },
  {
   "cell_type": "code",
   "execution_count": 103,
   "metadata": {
    "slideshow": {
     "slide_type": "fragment"
    }
   },
   "outputs": [],
   "source": [
    "class Bus:\n",
    "    def __init__(self, passengers=[]):\n",
    "        self.passengers = passengers\n",
    "        \n",
    "    def pick(self, name):\n",
    "        self.passengers.insert(0, name)\n",
    "        \n",
    "    def drop(self, name):\n",
    "       # if s in self.passengers: self.passengers.remove(s)\n",
    "        self.passengers.remove(name) "
   ]
  },
  {
   "cell_type": "markdown",
   "metadata": {
    "slideshow": {
     "slide_type": "fragment"
    }
   },
   "source": [
    "La liste vide est passée comme valeur par défaut si passengers n'est pas fournie."
   ]
  },
  {
   "cell_type": "markdown",
   "metadata": {
    "slideshow": {
     "slide_type": "fragment"
    }
   },
   "source": [
    "Cette classe a un problème absolument fondamental, lequel ?"
   ]
  },
  {
   "cell_type": "code",
   "execution_count": 106,
   "metadata": {
    "slideshow": {
     "slide_type": "subslide"
    }
   },
   "outputs": [
    {
     "name": "stdout",
     "output_type": "stream",
     "text": [
      "True\n",
      "['anna', 'anna']\n"
     ]
    }
   ],
   "source": [
    "# Que va me donner le résultat de cette comparaison ?\n",
    "\n",
    "bus1 = Bus()\n",
    "print(Bus.__init__.__defaults__[0] is bus1.passengers)\n",
    "bus1.pick(\"anna\")\n",
    "bus2 = Bus()\n",
    "print(bus2.passengers)"
   ]
  },
  {
   "cell_type": "code",
   "execution_count": null,
   "metadata": {
    "slideshow": {
     "slide_type": "fragment"
    }
   },
   "outputs": [],
   "source": [
    "bus1.pick(\"Carrie\")\n",
    "bus2 = Bus()\n",
    "print(bus2.passengers)"
   ]
  },
  {
   "cell_type": "markdown",
   "metadata": {
    "slideshow": {
     "slide_type": "subslide"
    }
   },
   "source": [
    "**Solution ?**"
   ]
  },
  {
   "cell_type": "code",
   "execution_count": null,
   "metadata": {
    "slideshow": {
     "slide_type": "fragment"
    }
   },
   "outputs": [],
   "source": [
    "class Bus:\n",
    "    def __init__(self, passengers=[]):\n",
    "        self.passengers = list(passengers)\n",
    "        # self.passengers n'est plus un alias pour la valeur par défaut de la fonction\n",
    "        # self.passengers est maintenant une copie de cette valeur par défaut \n",
    "        \n",
    "    def pick(self, name):\n",
    "        self.passengers.insert(0, name)\n",
    "        \n",
    "    def drop(self, name):\n",
    "       # if s in self.passengers: self.passengers.remove(s)\n",
    "        self.passengers.remove(name)"
   ]
  },
  {
   "cell_type": "markdown",
   "metadata": {
    "slideshow": {
     "slide_type": "fragment"
    }
   },
   "source": [
    "Leçon : être **très vigilant** lorsque des mutables sont utilisés comme valuer par défaut."
   ]
  },
  {
   "cell_type": "code",
   "execution_count": null,
   "metadata": {},
   "outputs": [],
   "source": []
  }
 ],
 "metadata": {
  "celltoolbar": "Slideshow",
  "kernelspec": {
   "display_name": "Python 3",
   "language": "python",
   "name": "python3"
  },
  "language_info": {
   "codemirror_mode": {
    "name": "ipython",
    "version": 3
   },
   "file_extension": ".py",
   "mimetype": "text/x-python",
   "name": "python",
   "nbconvert_exporter": "python",
   "pygments_lexer": "ipython3",
   "version": "3.7.6"
  }
 },
 "nbformat": 4,
 "nbformat_minor": 2
}
