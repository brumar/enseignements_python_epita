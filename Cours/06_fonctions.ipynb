{
 "cells": [
  {
   "cell_type": "markdown",
   "metadata": {
    "slideshow": {
     "slide_type": "slide"
    }
   },
   "source": [
    "# Fonctions"
   ]
  },
  {
   "cell_type": "markdown",
   "metadata": {
    "slideshow": {
     "slide_type": "subslide"
    }
   },
   "source": [
    "Forme générale :\n",
    "\n",
    "```python\n",
    "def funcname(arg1, arg2):\n",
    "    \"\"\" Document String\"\"\"\n",
    "    statements\n",
    "    return <value>```"
   ]
  },
  {
   "cell_type": "markdown",
   "metadata": {
    "slideshow": {
     "slide_type": "fragment"
    }
   },
   "source": [
    "- nom de la fonction : funcname\n",
    "- arguments attendus arg1, arg2\n",
    "- documentation de la fonction : \"\"\"Document String\"\n",
    "- retourne une valeur. \n"
   ]
  },
  {
   "cell_type": "markdown",
   "metadata": {
    "slideshow": {
     "slide_type": "subslide"
    }
   },
   "source": [
    "**Note** une fonction peut ne pas avoir de valeur de retour, auquel cas elle renvoit `None` qui est un type à part l'équivalent python `null`"
   ]
  },
  {
   "cell_type": "code",
   "execution_count": null,
   "metadata": {
    "slideshow": {
     "slide_type": "fragment"
    }
   },
   "outputs": [],
   "source": [
    "def I_ll_return_None():\n",
    "    print(\"hello\")\n",
    "    \n",
    "if I_ll_return_None() is None:\n",
    "    print(\"the function returned None\")"
   ]
  },
  {
   "cell_type": "markdown",
   "metadata": {
    "slideshow": {
     "slide_type": "subslide"
    }
   },
   "source": [
    "**note** `is` est généralement préféré à `==` pour comparer tester si une valeur est None. \n",
    "\n",
    "`is` compare les adresses mémoire, ce qui le rend plus strict"
   ]
  },
  {
   "cell_type": "code",
   "execution_count": null,
   "metadata": {
    "slideshow": {
     "slide_type": "fragment"
    }
   },
   "outputs": [],
   "source": [
    "print([1] is [1])  # équivalent à id([1]) == id([1])\n",
    "print([1] == [1])"
   ]
  },
  {
   "cell_type": "markdown",
   "metadata": {
    "slideshow": {
     "slide_type": "subslide"
    }
   },
   "source": [
    "## Instruction de retour"
   ]
  },
  {
   "cell_type": "code",
   "execution_count": null,
   "metadata": {
    "slideshow": {
     "slide_type": "fragment"
    }
   },
   "outputs": [],
   "source": [
    "def times(x, y):\n",
    "    z = x * y\n",
    "    return z"
   ]
  },
  {
   "cell_type": "code",
   "execution_count": null,
   "metadata": {
    "slideshow": {
     "slide_type": "fragment"
    }
   },
   "outputs": [],
   "source": [
    "c = times(4,5)\n",
    "print(c)"
   ]
  },
  {
   "cell_type": "markdown",
   "metadata": {
    "slideshow": {
     "slide_type": "fragment"
    }
   },
   "source": [
    "La valeur de retour est stockée dans une variable"
   ]
  },
  {
   "cell_type": "markdown",
   "metadata": {
    "slideshow": {
     "slide_type": "subslide"
    }
   },
   "source": [
    "l'instruction return peut être le resultat d'une instruction"
   ]
  },
  {
   "cell_type": "code",
   "execution_count": null,
   "metadata": {
    "slideshow": {
     "slide_type": "fragment"
    }
   },
   "outputs": [],
   "source": [
    "def times(x,y):\n",
    "    '''This multiplies the two input arguments'''\n",
    "    return x*y"
   ]
  },
  {
   "cell_type": "code",
   "execution_count": null,
   "metadata": {
    "slideshow": {
     "slide_type": "fragment"
    }
   },
   "outputs": [],
   "source": [
    "c = times(4,5)\n",
    "print(c)"
   ]
  },
  {
   "cell_type": "markdown",
   "metadata": {
    "slideshow": {
     "slide_type": "subslide"
    }
   },
   "source": [
    "Il est possible de retourner plusieurs valeurs"
   ]
  },
  {
   "cell_type": "code",
   "execution_count": null,
   "metadata": {
    "slideshow": {
     "slide_type": "fragment"
    }
   },
   "outputs": [],
   "source": [
    "eglist = [10,50,30,12,6,8,100]"
   ]
  },
  {
   "cell_type": "code",
   "execution_count": null,
   "metadata": {
    "slideshow": {
     "slide_type": "fragment"
    }
   },
   "outputs": [],
   "source": [
    "def egfunc(eglist):\n",
    "    highest = max(eglist)\n",
    "    lowest = min(eglist)\n",
    "    first = eglist[0]\n",
    "    last = eglist[-1]\n",
    "    return highest,lowest,first,last"
   ]
  },
  {
   "cell_type": "code",
   "execution_count": null,
   "metadata": {
    "slideshow": {
     "slide_type": "subslide"
    }
   },
   "outputs": [],
   "source": [
    "egfunc(eglist)"
   ]
  },
  {
   "cell_type": "code",
   "execution_count": null,
   "metadata": {
    "slideshow": {
     "slide_type": "fragment"
    }
   },
   "outputs": [],
   "source": [
    "a,b,c,d = egfunc(eglist)\n",
    "print(' a =',a,' b =',b,' c =',c,' d =',d)"
   ]
  },
  {
   "cell_type": "markdown",
   "metadata": {
    "slideshow": {
     "slide_type": "subslide"
    }
   },
   "source": [
    "Traiter de multiples valeurs de retour peut prêter à confusion. Une alternative est de renvoyer un [namedtuple](https://docs.python.org/3/library/collections.html#collections.namedtuple) ou un dictionnaire"
   ]
  },
  {
   "cell_type": "code",
   "execution_count": null,
   "metadata": {
    "slideshow": {
     "slide_type": "fragment"
    }
   },
   "outputs": [],
   "source": [
    "def egfunc(eglist):\n",
    "    highest = max(eglist)\n",
    "    lowest = min(eglist)\n",
    "    first = eglist[0]\n",
    "    last = eglist[-1]\n",
    "    return {\"highest\": highest,\"lowest\": lowest,\"first\": first,\"last\": last}"
   ]
  },
  {
   "cell_type": "code",
   "execution_count": null,
   "metadata": {
    "slideshow": {
     "slide_type": "fragment"
    }
   },
   "outputs": [],
   "source": [
    "egfunc(eglist)"
   ]
  },
  {
   "cell_type": "markdown",
   "metadata": {
    "slideshow": {
     "slide_type": "subslide"
    }
   },
   "source": [
    "## arguments par défaut"
   ]
  },
  {
   "cell_type": "markdown",
   "metadata": {
    "slideshow": {
     "slide_type": "fragment"
    }
   },
   "source": [
    "les arguments par défaut constituent un aspect très pratique des fonctions en python"
   ]
  },
  {
   "cell_type": "code",
   "execution_count": null,
   "metadata": {
    "slideshow": {
     "slide_type": "subslide"
    }
   },
   "outputs": [],
   "source": [
    "def implicit_add(x,y=3,z=0, flag=True):\n",
    "    if flag:\n",
    "        print(\"%d + %d + %d = %d\"%(x,y,z,x+y+z))\n",
    "        return x+y+z\n",
    "    else:\n",
    "        print(\"ill do something else\")\n",
    "        #"
   ]
  },
  {
   "cell_type": "markdown",
   "metadata": {
    "slideshow": {
     "slide_type": "fragment"
    }
   },
   "source": [
    "**implicit_add()** accepte entre 1 et 3 arguments. Si y et/ou z ne sont pas fournis lors de l'appel ils prendront les valeurs définies dans la signature de la fonction."
   ]
  },
  {
   "cell_type": "code",
   "execution_count": null,
   "metadata": {
    "slideshow": {
     "slide_type": "fragment"
    }
   },
   "outputs": [],
   "source": [
    "implicit_add(4)"
   ]
  },
  {
   "cell_type": "markdown",
   "metadata": {
    "slideshow": {
     "slide_type": "slide"
    }
   },
   "source": [
    "implicit_add peut être apellé de manière très flexible !"
   ]
  },
  {
   "cell_type": "code",
   "execution_count": null,
   "metadata": {
    "slideshow": {
     "slide_type": "fragment"
    }
   },
   "outputs": [],
   "source": [
    "implicit_add(4, 4)\n",
    "implicit_add(4, 5, 6)\n",
    "implicit_add(4, z=7)\n",
    "implicit_add(2, y=1, z=9)\n",
    "implicit_add(x=2, z=9, y=1)\n",
    "implicit_add(x=1)"
   ]
  },
  {
   "cell_type": "markdown",
   "metadata": {
    "slideshow": {
     "slide_type": "slide"
    }
   },
   "source": [
    "La seule contrainte est que les arguments positionnels doivent précéder les keyword arguments"
   ]
  },
  {
   "cell_type": "code",
   "execution_count": null,
   "metadata": {
    "slideshow": {
     "slide_type": "fragment"
    }
   },
   "outputs": [],
   "source": [
    "implicit_add(x=1, 2, 2)  # SYNTAX ERROR"
   ]
  },
  {
   "cell_type": "code",
   "execution_count": null,
   "metadata": {
    "slideshow": {
     "slide_type": "fragment"
    }
   },
   "outputs": [],
   "source": [
    "def f(x=3, y):  # SYNTAX ERROR\n",
    "    pass"
   ]
  },
  {
   "cell_type": "markdown",
   "metadata": {
    "slideshow": {
     "slide_type": "fragment"
    }
   },
   "source": [
    "Note : Il est généralement préférable d'apeller les fonctions en utilisant des keyword arguments. On comprend mieux ce que la fonction va faire sans avoir à inspecter son code."
   ]
  },
  {
   "cell_type": "markdown",
   "metadata": {
    "slideshow": {
     "slide_type": "subslide"
    }
   },
   "source": [
    "## Fonctions variadiques"
   ]
  },
  {
   "cell_type": "markdown",
   "metadata": {
    "slideshow": {
     "slide_type": "fragment"
    }
   },
   "source": [
    "https://fr.wikipedia.org/wiki/Fonction_variadique\n",
    "\n",
    "Une fonction variadique accepte un nombre variable d'arguments"
   ]
  },
  {
   "cell_type": "markdown",
   "metadata": {
    "slideshow": {
     "slide_type": "fragment"
    }
   },
   "source": [
    "Il est possible de récupérer l'ensemble des arguments (positionnels et/ou donnés à une fonction en utilisant le symbole `*` pour les arguments positionnels et `**` pour les keywords arguments "
   ]
  },
  {
   "cell_type": "code",
   "execution_count": null,
   "metadata": {
    "slideshow": {
     "slide_type": "subslide"
    }
   },
   "outputs": [],
   "source": [
    "def a_function(*args, **kwargs):\n",
    "    print(\"arguments positionels\", args)\n",
    "    print(\"keyword arguments\", kwargs)"
   ]
  },
  {
   "cell_type": "code",
   "execution_count": null,
   "metadata": {
    "slideshow": {
     "slide_type": "fragment"
    }
   },
   "outputs": [],
   "source": [
    "a_function(1,2,x=7, y=9)"
   ]
  },
  {
   "cell_type": "markdown",
   "metadata": {
    "slideshow": {
     "slide_type": "subslide"
    }
   },
   "source": [
    "Il est possible de mixer arguments attendus et variadiques, en respectant l'ordre : \n",
    "- 1. Arguments positionnels attendus (facultatif)\n",
    "- 2. Reste des arguments positionel, capturés par *args\n",
    "- 3. Arguments variadiques attendus (facultatif)\n",
    "- 4. Reste des arguments positionel, capturés par **kwargs"
   ]
  },
  {
   "cell_type": "code",
   "execution_count": null,
   "metadata": {
    "slideshow": {
     "slide_type": "fragment"
    }
   },
   "outputs": [],
   "source": [
    "def another_function(first_arg, second_arg, *args, a, **kwargs):\n",
    "    print(\"arguments positionnels attendus\", first_arg, second_arg)\n",
    "    print(\"arguments positionels restants\", args)\n",
    "    print(\"keyword arguments  attendus\", a)\n",
    "    print(\"keyword arguments restants\", kwargs)"
   ]
  },
  {
   "cell_type": "code",
   "execution_count": null,
   "metadata": {
    "slideshow": {
     "slide_type": "subslide"
    }
   },
   "outputs": [],
   "source": [
    "another_function(1, 2, 3, 4, a=\"hello\", b=\"epita\")"
   ]
  },
  {
   "cell_type": "markdown",
   "metadata": {
    "slideshow": {
     "slide_type": "slide"
    }
   },
   "source": [
    "## Il est possible d'écrire une fonction qui ne tolère d'être apellée que par des keywords arguments "
   ]
  },
  {
   "cell_type": "code",
   "execution_count": null,
   "metadata": {
    "slideshow": {
     "slide_type": "fragment"
    }
   },
   "outputs": [],
   "source": [
    "def onlykw_plz(*, a=\"1\", b=\"2\"):\n",
    "    print(a, b)"
   ]
  },
  {
   "cell_type": "code",
   "execution_count": null,
   "metadata": {
    "slideshow": {
     "slide_type": "fragment"
    }
   },
   "outputs": [],
   "source": [
    "onlykw_plz(a=\"1\", b=\"2\")\n",
    "onlykw_plz(\"1\")  # TypeError: onlykw_plz() takes 0 positional arguments but 1 was given"
   ]
  },
  {
   "cell_type": "markdown",
   "metadata": {
    "slideshow": {
     "slide_type": "slide"
    }
   },
   "source": [
    "## Il est possible d'écrire une fonction qui ne tolère d'être apellée que par des positional arguments "
   ]
  },
  {
   "cell_type": "code",
   "execution_count": null,
   "metadata": {
    "slideshow": {
     "slide_type": "fragment"
    }
   },
   "outputs": [],
   "source": [
    "def onlypos_plz(a, /): ## python 3.8 +\n",
    "    print(a)"
   ]
  },
  {
   "cell_type": "markdown",
   "metadata": {
    "slideshow": {
     "slide_type": "fragment"
    }
   },
   "source": [
    "Intérêt principal : laisser la possibilité au developpeur d'une API de changer le nom des arguments de ses fonctions."
   ]
  },
  {
   "cell_type": "markdown",
   "metadata": {
    "slideshow": {
     "slide_type": "subslide"
    }
   },
   "source": [
    "## apparté sur le symbole * et ** "
   ]
  },
  {
   "cell_type": "markdown",
   "metadata": {
    "slideshow": {
     "slide_type": "fragment"
    }
   },
   "source": [
    "Packing"
   ]
  },
  {
   "cell_type": "code",
   "execution_count": null,
   "metadata": {
    "slideshow": {
     "slide_type": "fragment"
    }
   },
   "outputs": [],
   "source": [
    "a, *remains = 1, 2, 3, 4\n",
    "print(a)\n",
    "print(remains)"
   ]
  },
  {
   "cell_type": "markdown",
   "metadata": {
    "slideshow": {
     "slide_type": "subslide"
    }
   },
   "source": [
    "## Unpacking"
   ]
  },
  {
   "cell_type": "code",
   "execution_count": null,
   "metadata": {
    "slideshow": {
     "slide_type": "fragment"
    }
   },
   "outputs": [],
   "source": [
    "def f(a, b, c, d):\n",
    "    return a + b + c + d "
   ]
  },
  {
   "cell_type": "code",
   "execution_count": null,
   "metadata": {
    "slideshow": {
     "slide_type": "fragment"
    }
   },
   "outputs": [],
   "source": [
    "liste = [\"A\" , \"B\", \"C\", \"D\"]  # comment passer cette liste d'arguments à ma fonction f ?"
   ]
  },
  {
   "cell_type": "code",
   "execution_count": null,
   "metadata": {
    "slideshow": {
     "slide_type": "fragment"
    }
   },
   "outputs": [],
   "source": [
    "f(liste)  # TYPEERROR"
   ]
  },
  {
   "cell_type": "code",
   "execution_count": null,
   "metadata": {
    "slideshow": {
     "slide_type": "fragment"
    }
   },
   "outputs": [],
   "source": [
    "f(liste[0], liste[1], liste[2], liste[3]) # Illisible, non extensible"
   ]
  },
  {
   "cell_type": "code",
   "execution_count": null,
   "metadata": {
    "slideshow": {
     "slide_type": "subslide"
    }
   },
   "outputs": [],
   "source": [
    "f(*liste)  # plus propre, on unpack (\"déplie\") la liste dans une série d'arguments"
   ]
  },
  {
   "cell_type": "markdown",
   "metadata": {
    "slideshow": {
     "slide_type": "subslide"
    }
   },
   "source": [
    "fonctionne aussi pour les dictionnaires, avec `**`"
   ]
  },
  {
   "cell_type": "code",
   "execution_count": null,
   "metadata": {
    "slideshow": {
     "slide_type": "fragment"
    }
   },
   "outputs": [],
   "source": [
    "d = {\"a\":\"A\", \"b\":\"B\", \"c\":\"C\", \"d\":\"D\"}\n",
    "f(**d)  # revient à f(a=\"A\", b=\"B\", c=\"C\", d=\"D\")"
   ]
  },
  {
   "cell_type": "markdown",
   "metadata": {
    "slideshow": {
     "slide_type": "fragment"
    }
   },
   "source": [
    "Peut être utile pour fusionner des dictionnaires"
   ]
  },
  {
   "cell_type": "code",
   "execution_count": null,
   "metadata": {
    "slideshow": {
     "slide_type": "fragment"
    }
   },
   "outputs": [],
   "source": [
    "c = {1: \"hello\", 2: \"world\"}\n",
    "new_dict = {**d, **c}\n",
    "print(new_dict)"
   ]
  },
  {
   "cell_type": "markdown",
   "metadata": {
    "slideshow": {
     "slide_type": "subslide"
    }
   },
   "source": [
    "##  Variables locales et globales"
   ]
  },
  {
   "cell_type": "markdown",
   "metadata": {
    "slideshow": {
     "slide_type": "fragment"
    }
   },
   "source": [
    "Comme en js, une variable définie hors de toute fonction est globale. Elle est :\n",
    "- accessible de partout dans le module \n",
    "- modifiable a condition de préciser son utilisation par le mot clef `global`"
   ]
  },
  {
   "cell_type": "code",
   "execution_count": null,
   "metadata": {
    "slideshow": {
     "slide_type": "fragment"
    }
   },
   "outputs": [],
   "source": [
    "x = 3\n",
    "def read():\n",
    "    print(x)\n",
    "read()"
   ]
  },
  {
   "cell_type": "code",
   "execution_count": null,
   "metadata": {
    "slideshow": {
     "slide_type": "subslide"
    }
   },
   "outputs": [],
   "source": [
    "x = 3\n",
    "def write():\n",
    "    global x\n",
    "    x+= 1\n",
    "write()\n",
    "print(x)"
   ]
  },
  {
   "cell_type": "markdown",
   "metadata": {
    "slideshow": {
     "slide_type": "fragment"
    }
   },
   "source": [
    "Evidemment, à utiliser le moins possible (ou même jamais)"
   ]
  },
  {
   "cell_type": "markdown",
   "metadata": {
    "slideshow": {
     "slide_type": "subslide"
    }
   },
   "source": [
    "Il est possible de faire des closures en python (comme en js), **une fonction imbriquée peut acceder au scope superieur**."
   ]
  },
  {
   "cell_type": "code",
   "execution_count": null,
   "metadata": {
    "slideshow": {
     "slide_type": "fragment"
    }
   },
   "outputs": [],
   "source": [
    "def f(x):\n",
    "    # f défini une fonction imbriquée et l'apelle immédiatement\n",
    "    def g():\n",
    "        print(x)  # g \"connait\" x\n",
    "    g()\n",
    "f(4)"
   ]
  },
  {
   "cell_type": "markdown",
   "metadata": {
    "slideshow": {
     "slide_type": "subslide"
    }
   },
   "source": [
    "Toutefois, g ne peut pas modifier x. \n",
    "\n",
    "Si c'est désirable, le mot clef `nonlocal` doit être utilisé."
   ]
  },
  {
   "cell_type": "code",
   "execution_count": null,
   "metadata": {
    "slideshow": {
     "slide_type": "fragment"
    }
   },
   "outputs": [],
   "source": [
    "def outerFunction(text): \n",
    "    def innerFunction():\n",
    "        nonlocal text\n",
    "        print(text)\n",
    "        text = \"aa\"\n",
    "    innerFunction() \n",
    "    print(text)"
   ]
  },
  {
   "cell_type": "code",
   "execution_count": null,
   "metadata": {
    "slideshow": {
     "slide_type": "fragment"
    }
   },
   "outputs": [],
   "source": [
    "outerFunction(\"hello\")"
   ]
  },
  {
   "cell_type": "markdown",
   "metadata": {
    "slideshow": {
     "slide_type": "subslide"
    }
   },
   "source": [
    "## Lambda Functions"
   ]
  },
  {
   "cell_type": "markdown",
   "metadata": {
    "slideshow": {
     "slide_type": "fragment"
    }
   },
   "source": [
    "Technique pour écrire une fonction anonyme et de manière concise"
   ]
  },
  {
   "cell_type": "code",
   "execution_count": null,
   "metadata": {
    "slideshow": {
     "slide_type": "fragment"
    }
   },
   "outputs": [],
   "source": [
    "z = lambda x: x * x"
   ]
  },
  {
   "cell_type": "code",
   "execution_count": null,
   "metadata": {
    "slideshow": {
     "slide_type": "fragment"
    }
   },
   "outputs": [],
   "source": [
    "z(8)"
   ]
  },
  {
   "cell_type": "markdown",
   "metadata": {
    "slideshow": {
     "slide_type": "subslide"
    }
   },
   "source": [
    "Il est recommandé de ne pas en abuser. [Source](https://www.python.org/dev/peps/pep-0008/#programming-recommendations)\n",
    "\n",
    "Dans le cas précédent, on préferera cette forme :"
   ]
  },
  {
   "cell_type": "code",
   "execution_count": null,
   "metadata": {
    "slideshow": {
     "slide_type": "fragment"
    }
   },
   "outputs": [],
   "source": [
    "def z(x): \n",
    "    return x * x"
   ]
  },
  {
   "cell_type": "markdown",
   "metadata": {
    "slideshow": {
     "slide_type": "fragment"
    }
   },
   "source": [
    "Peut être pratique lorsqu'il s'agit de passer une fonction à une autre fonction, comme l'argument key min, max ou sort."
   ]
  },
  {
   "cell_type": "code",
   "execution_count": null,
   "metadata": {
    "slideshow": {
     "slide_type": "subslide"
    }
   },
   "outputs": [],
   "source": [
    "scores = ({\"name\" : \"Joe\", \"score\" : 5}, {\"name\" : \"David\", \"score\" : 15}, {\"name\" : \"Tom\", \"score\" : 2})\n",
    "print(scores)"
   ]
  },
  {
   "cell_type": "code",
   "execution_count": null,
   "metadata": {
    "slideshow": {
     "slide_type": "fragment"
    }
   },
   "outputs": [],
   "source": [
    "max(scores, key=lambda item: item[\"score\"])"
   ]
  },
  {
   "cell_type": "markdown",
   "metadata": {
    "slideshow": {
     "slide_type": "fragment"
    }
   },
   "source": [
    "Pour aller plus loin : [Alternative possible](https://docs.python.org/3/library/operator.html#operator.itemgetter) issue de la programmation fonctionelle"
   ]
  },
  {
   "cell_type": "markdown",
   "metadata": {
    "slideshow": {
     "slide_type": "subslide"
    }
   },
   "source": [
    "Une fonction est en réalité une classe"
   ]
  },
  {
   "cell_type": "code",
   "execution_count": null,
   "metadata": {
    "slideshow": {
     "slide_type": "fragment"
    }
   },
   "outputs": [],
   "source": [
    "def z(x): \n",
    "    return x * x"
   ]
  },
  {
   "cell_type": "code",
   "execution_count": null,
   "metadata": {
    "slideshow": {
     "slide_type": "fragment"
    }
   },
   "outputs": [],
   "source": [
    "print(type(z))"
   ]
  },
  {
   "cell_type": "markdown",
   "metadata": {
    "slideshow": {
     "slide_type": "subslide"
    }
   },
   "source": [
    "Sans surprise, donc, de nombreux attributs et méthodes sont accessibles ?"
   ]
  },
  {
   "cell_type": "code",
   "execution_count": null,
   "metadata": {
    "slideshow": {
     "slide_type": "fragment"
    }
   },
   "outputs": [],
   "source": [
    "dir(z)"
   ]
  },
  {
   "cell_type": "markdown",
   "metadata": {
    "slideshow": {
     "slide_type": "subslide"
    }
   },
   "source": [
    "## On peut donc \"s'amuser\" à ajouter et lire des attributs"
   ]
  },
  {
   "cell_type": "code",
   "execution_count": null,
   "metadata": {
    "slideshow": {
     "slide_type": "fragment"
    }
   },
   "outputs": [],
   "source": [
    "z.anotherattribute = \"1\""
   ]
  },
  {
   "cell_type": "code",
   "execution_count": null,
   "metadata": {
    "slideshow": {
     "slide_type": "fragment"
    }
   },
   "outputs": [],
   "source": [
    "z.anotherattribute"
   ]
  },
  {
   "cell_type": "code",
   "execution_count": null,
   "metadata": {
    "slideshow": {
     "slide_type": "fragment"
    }
   },
   "outputs": [],
   "source": [
    "z.__dict__"
   ]
  },
  {
   "cell_type": "markdown",
   "metadata": {
    "slideshow": {
     "slide_type": "subslide"
    }
   },
   "source": [
    "## Statut des fonctions"
   ]
  },
  {
   "cell_type": "markdown",
   "metadata": {
    "slideshow": {
     "slide_type": "fragment"
    }
   },
   "source": [
    "Les fonctions, comme les variables, sont des des **first class citizen** (Objet de première classe). \n",
    "\n",
    "Implications (wikipedia) :\n",
    "    \n",
    "- être expressible comme une valeur anonyme littérale ;\n",
    "- **être affecté à des variables ou des structures de données ;**\n",
    "- avoir une identité intrinsèque ;\n",
    "- être comparable pour l'égalité ou l'identité avec d'autres entités ;\n",
    "- **pouvoir être passé comme paramètre à une procédure ou une fonction** ;\n",
    "- **pouvoir être retourné par une procédure ou une fonction** ;\n",
    "- **pouvoir être constructible lors de l'exécution.**"
   ]
  },
  {
   "cell_type": "markdown",
   "metadata": {
    "slideshow": {
     "slide_type": "subslide"
    }
   },
   "source": [
    "## Decorateurs"
   ]
  },
  {
   "cell_type": "code",
   "execution_count": null,
   "metadata": {
    "slideshow": {
     "slide_type": "subslide"
    }
   },
   "outputs": [],
   "source": [
    "def logger(another_function): # A\n",
    "    def new_crafted_function(*args, **kwargs): # B\n",
    "        print(args) # C\n",
    "        print(kwargs) # C\n",
    "        return another_function(*args, **kwargs) # D\n",
    "    return new_crafted_function # A"
   ]
  },
  {
   "cell_type": "markdown",
   "metadata": {
    "slideshow": {
     "slide_type": "fragment"
    }
   },
   "source": [
    "Commentaire ligne par ligne :\n",
    "- logger est une fonction qui prend en entrée une fonction et qui retourne une nouvelle fonction (# A)\n",
    "- On ne connait pas à l'avance les arguments fournies à cette nouvelle fonction, on utilise donc *args et **kwargs (#B)\n",
    "- Notre nouvelle fonction fait les choses suivantes :\n",
    "    - print les arguments données en entrées (#C)\n",
    "    - renvoit le résultat de la fonction donnée en paramètre sur les arguments fournis (* et ** réalisent l'unpacking des arguments) (#D)\n",
    "   \n",
    "Lorsqu'on écrit un décorateur, les parties A, B et D sont pratiquement toujours les mêmes. C'est la partie C qui change"
   ]
  },
  {
   "cell_type": "code",
   "execution_count": null,
   "metadata": {
    "slideshow": {
     "slide_type": "slide"
    }
   },
   "outputs": [],
   "source": [
    "def square(x):\n",
    "    return x*x"
   ]
  },
  {
   "cell_type": "markdown",
   "metadata": {
    "slideshow": {
     "slide_type": "fragment"
    }
   },
   "source": [
    "Peut être augmenté par notre fonction \"logger\""
   ]
  },
  {
   "cell_type": "code",
   "execution_count": null,
   "metadata": {
    "slideshow": {
     "slide_type": "fragment"
    }
   },
   "outputs": [],
   "source": [
    "square = logger(square)\n",
    "square(11)"
   ]
  },
  {
   "cell_type": "markdown",
   "metadata": {
    "slideshow": {
     "slide_type": "subslide"
    }
   },
   "source": [
    "Python a prévu une manière simplifiée d'effectuer cette augmentation qui a été apellé \"décorateur\" par 'utilisation du signe `@`\n",
    "\n",
    "Le terme decorateur est une référence au design pattern du même nom."
   ]
  },
  {
   "cell_type": "code",
   "execution_count": null,
   "metadata": {
    "slideshow": {
     "slide_type": "fragment"
    }
   },
   "outputs": [],
   "source": [
    "@logger\n",
    "def square(x):\n",
    "    return x*x"
   ]
  },
  {
   "cell_type": "markdown",
   "metadata": {
    "slideshow": {
     "slide_type": "fragment"
    }
   },
   "source": [
    "absolument équivalent à :"
   ]
  },
  {
   "cell_type": "code",
   "execution_count": null,
   "metadata": {
    "slideshow": {
     "slide_type": "fragment"
    }
   },
   "outputs": [],
   "source": [
    "def square(x):\n",
    "    return x*x\n",
    "square = logger(square)"
   ]
  },
  {
   "cell_type": "markdown",
   "metadata": {
    "slideshow": {
     "slide_type": "subslide"
    }
   },
   "source": [
    "### Décorateurs dans la pratique\n",
    "\n",
    "Il est rare d'avoir à écrire ses propres décorateurs. \n",
    "\n",
    "Cependant, les frameworks et la librairie standard peuvent vous offrir des décorateurs utiles.\n",
    "\n",
    "Exemples : "
   ]
  },
  {
   "cell_type": "code",
   "execution_count": null,
   "metadata": {
    "slideshow": {
     "slide_type": "fragment"
    }
   },
   "outputs": [],
   "source": [
    "def sluggish_function(initvalue):\n",
    "    \"\"\"very long function to execute\"\"\"\n",
    "    i = 0\n",
    "    while i < 3_000_000:\n",
    "        i += 1\n",
    "        j = i**2 + initvalue\n",
    "    return j\n",
    "sluggish_function(5)"
   ]
  },
  {
   "cell_type": "code",
   "execution_count": null,
   "metadata": {
    "slideshow": {
     "slide_type": "fragment"
    }
   },
   "outputs": [],
   "source": [
    "import functools\n",
    "\n",
    "@functools.lru_cache()\n",
    "def sluggish_function(initvalue):\n",
    "    i = 0\n",
    "    while i < 3_000_000:\n",
    "        i += 1\n",
    "        j = i**2 + initvalue\n",
    "    return j\n",
    "print(sluggish_function(5))\n",
    "print(sluggish_function(5))\n",
    "print(sluggish_function(5))"
   ]
  },
  {
   "cell_type": "markdown",
   "metadata": {
    "slideshow": {
     "slide_type": "fragment"
    }
   },
   "source": [
    "`lru_cache` augmente la fonction `sluggish_function` en maintenant un dictionnaire arguments -> valeur de retours et ainsi éviter de rapeller `sluggish_function` si les arguments ont déjà été utilisés. En savoir plus sur lru_cache : https://docs.python.org/3/library/functools.html#functools.lru_cache"
   ]
  },
  {
   "cell_type": "markdown",
   "metadata": {
    "slideshow": {
     "slide_type": "fragment"
    }
   },
   "source": [
    "Exemple avec Django (framework web). Le développeur écrit des vues (fonctions qui traitent les requêtes web). Il est fréquent d'interdire certaines vues selon le type de requête ou selon si elle est effecutée par un utilisateur non connectée etc..."
   ]
  },
  {
   "cell_type": "code",
   "execution_count": null,
   "metadata": {
    "slideshow": {
     "slide_type": "fragment"
    }
   },
   "outputs": [],
   "source": [
    "from django.views.decorators.http import require_http_methods\n",
    "\n",
    "@require_http_methods([\"GET\", \"POST\"])\n",
    "def my_view(request):\n",
    "    # I can assume now that only GET or POST requests make it this far\n",
    "    # ...\n",
    "    pass"
   ]
  },
  {
   "cell_type": "markdown",
   "metadata": {
    "slideshow": {
     "slide_type": "fragment"
    }
   },
   "source": [
    "En savoir plus sur les décorateurs de vues https://docs.djangoproject.com/fr/2.1/topics/http/decorators/"
   ]
  },
  {
   "cell_type": "markdown",
   "metadata": {
    "slideshow": {
     "slide_type": "subslide"
    }
   },
   "source": [
    "## Aspects fonctionnels de python"
   ]
  },
  {
   "cell_type": "markdown",
   "metadata": {
    "slideshow": {
     "slide_type": "fragment"
    }
   },
   "source": [
    "Python est multi-paradigme. Il n'est donc pas un language fonctionnel à proprement parler. Les lambda functions, par exemple, sont reconnues comme limitées comparé à Lisp ou Haskell. Toutefois Python emprunte aux languages fonctionnels de nombreux concepts (comme les list comprehension que nous avons déja vu).\n",
    "\n",
    "Les amateurs de programmation fonctionnelle trouveront de l'intérêt dans les modules listés ici https://docs.python.org/3/library/functional.html\n",
    "\n",
    "et ceux qui veulent pousser plus loin : https://github.com/sfermigier/awesome-functional-python"
   ]
  }
 ],
 "metadata": {
  "celltoolbar": "Slideshow",
  "kernelspec": {
   "display_name": "Python 3",
   "language": "python",
   "name": "python3"
  },
  "language_info": {
   "codemirror_mode": {
    "name": "ipython",
    "version": 3
   },
   "file_extension": ".py",
   "mimetype": "text/x-python",
   "name": "python",
   "nbconvert_exporter": "python",
   "pygments_lexer": "ipython3",
   "version": "3.7.6"
  }
 },
 "nbformat": 4,
 "nbformat_minor": 1
}
