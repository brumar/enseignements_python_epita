{
 "cells": [
  {
   "cell_type": "markdown",
   "metadata": {},
   "source": [
    "# Objectifs"
   ]
  },
  {
   "cell_type": "markdown",
   "metadata": {},
   "source": [
    "https://github.com/brumar/enseignements_python_epita"
   ]
  },
  {
   "cell_type": "markdown",
   "metadata": {},
   "source": [
    "- Apprendre Python\n",
    "- Apprendre à utiliser Django et Django Rest Framework"
   ]
  },
  {
   "cell_type": "markdown",
   "metadata": {},
   "source": [
    "# MOI"
   ]
  },
  {
   "cell_type": "markdown",
   "metadata": {},
   "source": [
    "- Développeur Python (assez passionné)\n",
    "- <a href=\"mailto:martin.bruno.mail@gmail.com\"> Adresse Mail </a>\n",
    "- Deuxième année cours de python (auparavant PHP, js etc...)"
   ]
  },
  {
   "cell_type": "markdown",
   "metadata": {},
   "source": [
    "# Déroulé"
   ]
  },
  {
   "cell_type": "markdown",
   "metadata": {},
   "source": [
    "2 + 3 séances de cours (2h30) + TP (30min)\n",
    "\n",
    "1. Introduction à Python\n",
    "2. Introduction à Python - Renforcement\n",
    "3. Django\n",
    "4. Django Rest Framework"
   ]
  },
  {
   "cell_type": "markdown",
   "metadata": {},
   "source": [
    "# Evaluation"
   ]
  },
  {
   "cell_type": "markdown",
   "metadata": {},
   "source": [
    "- Rendu des TPS (20%)\n",
    "- Projet de groupe (80%)"
   ]
  },
  {
   "cell_type": "markdown",
   "metadata": {},
   "source": [
    "## Evaluation des TPs :\n",
    "- 0/2 = pas rendu ou rendu avec presque pas de travail\n",
    "- 1/2 = rendu + travail décent mais incomplet ou erreurs\n",
    "- 2/2 = rendu + très peu d'erreurs"
   ]
  },
  {
   "cell_type": "markdown",
   "metadata": {},
   "source": [
    "## Evaluation du projet :"
   ]
  },
  {
   "cell_type": "markdown",
   "metadata": {},
   "source": [
    "(Les attentes peuvent évoluer selon notre progression)"
   ]
  },
  {
   "cell_type": "markdown",
   "metadata": {},
   "source": [
    "**Résumé** : \n",
    "\n",
    "- API Rest, propre, documentée, testées, interessante et deployable avec Docker.\n",
    "\n",
    "**Détails** :\n",
    "- Documentation\n",
    "    - postman ou swagger\n",
    "- Système d'authentification\n",
    "    - au choix\n",
    "        - Basic\n",
    "        - Token\n",
    "- Plusieurs endpoints\n",
    "    - Au moins 2 POSTs et 2 GETs\n",
    "    - plusieurs paramêtres\n",
    "- Tests\n",
    "    - unitaires\n",
    "    - fonctionnels\n",
    "    - integration\n",
    "- Enregistrement et récupération en BDD\n",
    "- Offre une fonctionnalité interessante\n",
    "    - Pas juste Un CRUD\n",
    "    - Utiliser un ou plusieurs librairies python interessantes\n",
    "- Code \n",
    "    - idiomatique\n",
    "    - bien structuré\n",
    "    - compréhensible\n",
    "- Docker\n",
    "    - Deploiement et tests avec Docker (Base fournie)"
   ]
  },
  {
   "cell_type": "markdown",
   "metadata": {},
   "source": [
    "# Quelques notes"
   ]
  },
  {
   "cell_type": "markdown",
   "metadata": {},
   "source": [
    "- Ambiance détendue\n",
    "- Je ne vais pas dans les détails (vous savez utiliser google pour chercher les détails) \n",
    "- Levez le doigt, posez des questions\n",
    "- Les cours, exercices et autres ressources se trouveront à https://github.com/brumar/enseignements_python_epita"
   ]
  },
  {
   "cell_type": "markdown",
   "metadata": {},
   "source": [
    "# Format \"notebook\""
   ]
  },
  {
   "cell_type": "markdown",
   "metadata": {},
   "source": [
    "## Description "
   ]
  },
  {
   "cell_type": "markdown",
   "metadata": {},
   "source": [
    "- nom : Jupyter notebooks\n",
    "- idée : Mi-chemin entre\n",
    "    - le shell interactif\n",
    "    - une page mélangeant code et commentaire\n",
    "- Les cellules peuvent contenir :\n",
    "    - Du texte format markdown\n",
    "    - Des cellules executables\n",
    "- Principalement utilisé :\n",
    "    - Data science\n",
    "    - Exploration dans l'utilisation d'une librairie ou d'une API\n",
    "    - **Education**"
   ]
  },
  {
   "cell_type": "code",
   "execution_count": 1,
   "metadata": {},
   "outputs": [
    {
     "name": "stdout",
     "output_type": "stream",
     "text": [
      "hello\n"
     ]
    }
   ],
   "source": [
    "print(\"hello\")"
   ]
  },
  {
   "cell_type": "markdown",
   "metadata": {},
   "source": [
    "Les premiers cours sont sous forme de notebooks, par endroit, il reste de l'anglais, issu de la source https://gitlab.erc.monash.edu.au/andrease/Python4Maths/tree/master/Intro-to-Python"
   ]
  },
  {
   "cell_type": "markdown",
   "metadata": {},
   "source": [
    "### Comment utiliser la version executable ?"
   ]
  },
  {
   "cell_type": "markdown",
   "metadata": {},
   "source": [
    "Pour quoi faire :\n",
    "- Revenir sur le cours, executer les celulles pour tester des modifications\n",
    "- Réaliser le premier TP"
   ]
  },
  {
   "cell_type": "markdown",
   "metadata": {},
   "source": [
    "Plusieurs possibilités :\n",
    "- La plus simple pour commencer : Importer les notebooks en utilisant l'outil de google https://colab.research.google.com/notebook\n",
    "- Plus compliqué : Cloner le dépot, puis installer anaconda (distribution python avec jupyter déjà installé) https://www.anaconda.com/\n",
    "- Plus compliqué : Cloner le dépot, puis installer python ainsi que jupyter."
   ]
  },
  {
   "cell_type": "code",
   "execution_count": null,
   "metadata": {},
   "outputs": [],
   "source": []
  }
 ],
 "metadata": {
  "kernelspec": {
   "display_name": "Python 3",
   "language": "python",
   "name": "python3"
  },
  "language_info": {
   "codemirror_mode": {
    "name": "ipython",
    "version": 3
   },
   "file_extension": ".py",
   "mimetype": "text/x-python",
   "name": "python",
   "nbconvert_exporter": "python",
   "pygments_lexer": "ipython3",
   "version": "3.7.6"
  }
 },
 "nbformat": 4,
 "nbformat_minor": 2
}
