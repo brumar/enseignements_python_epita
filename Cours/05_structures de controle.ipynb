{
 "cells": [
  {
   "cell_type": "markdown",
   "metadata": {
    "slideshow": {
     "slide_type": "slide"
    }
   },
   "source": [
    "# Structures de contrôles"
   ]
  },
  {
   "cell_type": "markdown",
   "metadata": {
    "slideshow": {
     "slide_type": "subslide"
    }
   },
   "source": [
    "Ne pas oublier : **4 espaces blancs** pour définir un bloc.\n",
    "\n",
    "Si IDE bien configuré : \n",
    "    - <TAB> = 4 espaces blancs\n",
    "    - Enter respecte l'indentation."
   ]
  },
  {
   "cell_type": "markdown",
   "metadata": {
    "slideshow": {
     "slide_type": "subslide"
    }
   },
   "source": [
    "## Conditionals\n",
    "\n",
    "### If"
   ]
  },
  {
   "cell_type": "markdown",
   "metadata": {
    "slideshow": {
     "slide_type": "fragment"
    }
   },
   "source": [
    "```python\n",
    "if some_condition:\n",
    "    code block```"
   ]
  },
  {
   "cell_type": "code",
   "execution_count": null,
   "metadata": {
    "slideshow": {
     "slide_type": "fragment"
    }
   },
   "outputs": [],
   "source": [
    "x = 12\n",
    "if x > 10:\n",
    "    print(\"Hello\")"
   ]
  },
  {
   "cell_type": "markdown",
   "metadata": {
    "slideshow": {
     "slide_type": "subslide"
    }
   },
   "source": [
    "### If-else"
   ]
  },
  {
   "cell_type": "code",
   "execution_count": null,
   "metadata": {
    "slideshow": {
     "slide_type": "fragment"
    }
   },
   "outputs": [],
   "source": [
    "x = 12\n",
    "if 10 < x < 11:\n",
    "    print(\"x between 10 and 11\")\n",
    "else:\n",
    "    print(\"x outside 10 and 11\")"
   ]
  },
  {
   "cell_type": "markdown",
   "metadata": {
    "slideshow": {
     "slide_type": "subslide"
    }
   },
   "source": [
    "### Else if"
   ]
  },
  {
   "cell_type": "code",
   "execution_count": null,
   "metadata": {
    "slideshow": {
     "slide_type": "fragment"
    }
   },
   "outputs": [],
   "source": [
    "x = 10\n",
    "y = 12\n",
    "if x > y:\n",
    "    print(\"x>y\")\n",
    "elif x < y:\n",
    "    print(\"x<y\")\n",
    "else:\n",
    "    print(\"x=y\")"
   ]
  },
  {
   "cell_type": "markdown",
   "metadata": {
    "slideshow": {
     "slide_type": "slide"
    }
   },
   "source": [
    "## Loops"
   ]
  },
  {
   "cell_type": "markdown",
   "metadata": {
    "slideshow": {
     "slide_type": "subslide"
    }
   },
   "source": [
    "### For"
   ]
  },
  {
   "cell_type": "markdown",
   "metadata": {
    "slideshow": {
     "slide_type": "fragment"
    }
   },
   "source": [
    "```python\n",
    "for variable in something:\n",
    "    algorithm```"
   ]
  },
  {
   "cell_type": "markdown",
   "metadata": {
    "slideshow": {
     "slide_type": "subslide"
    }
   },
   "source": [
    "## Apparté sur les iterables"
   ]
  },
  {
   "cell_type": "markdown",
   "metadata": {
    "slideshow": {
     "slide_type": "fragment"
    }
   },
   "source": [
    "`something` doit être un iterable.\n",
    "\n",
    "- Le concept d'iterable est **central** en python.\n",
    "- C'est est un **objet duquel on peut obtenir des valeurs une par une**.\n",
    "- Les **structures de données de base** sont des iterables (tuples, strings, listes, dictionnaires(~)). \n",
    "- Il est possible de construire \"manuellement\" des iterables\n",
    "- Un générateur est un iterable dont les valeurs sont chargés en mémoire une par une."
   ]
  },
  {
   "cell_type": "code",
   "execution_count": 1,
   "metadata": {
    "slideshow": {
     "slide_type": "fragment"
    }
   },
   "outputs": [
    {
     "name": "stdout",
     "output_type": "stream",
     "text": [
      "0\n",
      "1\n",
      "2\n",
      "3\n"
     ]
    }
   ],
   "source": [
    "d = range(0, 10^20)  \n",
    "# si d était une vraie liste, on aurait utilisé toute la RAM disponible\n",
    "# list(d) convertirait l'itérable en liste ... et aurait utilisé toute la RAM disponible\n",
    "for a in d:\n",
    "    # no pbm\n",
    "    print(a)\n",
    "    if a == 3:\n",
    "        break"
   ]
  },
  {
   "cell_type": "markdown",
   "metadata": {
    "slideshow": {
     "slide_type": "subslide"
    }
   },
   "source": [
    "Dans beaucoup de languages, la boucle for est construite sur la base d'un index.    \n",
    "Exemple en Javascript\n",
    "\n",
    "```javascript\n",
    "var i;\n",
    "var text=\"\";\n",
    "for (i = 0; i < cars.length; i++) { \n",
    "  text += cars[i] + \"<br>\";\n",
    "}\n",
    "```\n",
    "\n",
    "En python, c'est très rarement necessaire\n",
    "```python\n",
    "text = \"\"\n",
    "for car in cars:\n",
    "    text += car + \"<br\"\n",
    "```"
   ]
  },
  {
   "cell_type": "markdown",
   "metadata": {
    "slideshow": {
     "slide_type": "subslide"
    }
   },
   "source": [
    "## L'index est toutefois parfois utile, on peut l'obtenir grace au built-in \"enumerate\""
   ]
  },
  {
   "cell_type": "code",
   "execution_count": 2,
   "metadata": {
    "slideshow": {
     "slide_type": "fragment"
    }
   },
   "outputs": [
    {
     "name": "stdout",
     "output_type": "stream",
     "text": [
      "0 : Renaud 18 \n",
      "1 : Kangoo \n",
      "2 : Bus \n",
      "\n"
     ]
    }
   ],
   "source": [
    "text = \"\"\n",
    "cars = [\"Renaud 18\", \"Kangoo\", \"Bus\"]\n",
    "for c, car in enumerate(cars):\n",
    "    text += f\"{c} : {car} \\n\"\n",
    "print(text)"
   ]
  },
  {
   "cell_type": "markdown",
   "metadata": {
    "slideshow": {
     "slide_type": "slide"
    }
   },
   "source": [
    "## Les structures de bases sont iterables"
   ]
  },
  {
   "cell_type": "code",
   "execution_count": null,
   "metadata": {
    "slideshow": {
     "slide_type": "fragment"
    }
   },
   "outputs": [],
   "source": [
    "# strings\n",
    "for ch in 'abc':\n",
    "    print(ch)"
   ]
  },
  {
   "cell_type": "code",
   "execution_count": null,
   "metadata": {
    "slideshow": {
     "slide_type": "fragment"
    }
   },
   "outputs": [],
   "source": [
    "# listes\n",
    "total = 0\n",
    "for i,j in [(3,2),(2,4)]:\n",
    "    total += i*j\n",
    "print(\"total =\",total)"
   ]
  },
  {
   "cell_type": "markdown",
   "metadata": {
    "slideshow": {
     "slide_type": "subslide"
    }
   },
   "source": [
    "## boucle for imbriquée"
   ]
  },
  {
   "cell_type": "code",
   "execution_count": null,
   "metadata": {
    "slideshow": {
     "slide_type": "fragment"
    }
   },
   "outputs": [],
   "source": [
    "list_of_lists = [[1, 2, 3], [4, 5, 6], [7, 8, 9]]\n",
    "total = 0\n",
    "for list1 in list_of_lists:\n",
    "    for x in list1:\n",
    "        total = total + x\n",
    "print(total)"
   ]
  },
  {
   "cell_type": "markdown",
   "metadata": {
    "slideshow": {
     "slide_type": "subslide"
    }
   },
   "source": [
    "### While"
   ]
  },
  {
   "cell_type": "markdown",
   "metadata": {
    "slideshow": {
     "slide_type": "fragment"
    }
   },
   "source": [
    "```python\n",
    "while some_condition:  \n",
    "    algorithm```"
   ]
  },
  {
   "cell_type": "code",
   "execution_count": null,
   "metadata": {
    "slideshow": {
     "slide_type": "fragment"
    }
   },
   "outputs": [],
   "source": [
    "i = 1\n",
    "while i < 3:\n",
    "    print(i ** 2)\n",
    "    i = i + 1\n",
    "print('Bye')"
   ]
  },
  {
   "cell_type": "markdown",
   "metadata": {
    "slideshow": {
     "slide_type": "subslide"
    }
   },
   "source": [
    "### Break"
   ]
  },
  {
   "cell_type": "markdown",
   "metadata": {
    "slideshow": {
     "slide_type": "fragment"
    }
   },
   "source": [
    "Rompt complètement l'execution de la boucle"
   ]
  },
  {
   "cell_type": "code",
   "execution_count": null,
   "metadata": {
    "slideshow": {
     "slide_type": "fragment"
    }
   },
   "outputs": [],
   "source": [
    "for i in range(100):\n",
    "    print(i)\n",
    "    if i>=7:\n",
    "        break"
   ]
  },
  {
   "cell_type": "markdown",
   "metadata": {
    "slideshow": {
     "slide_type": "subslide"
    }
   },
   "source": [
    "### Continue"
   ]
  },
  {
   "cell_type": "markdown",
   "metadata": {
    "slideshow": {
     "slide_type": "fragment"
    }
   },
   "source": [
    "Passe directement à l'itération suivante"
   ]
  },
  {
   "cell_type": "code",
   "execution_count": 3,
   "metadata": {
    "slideshow": {
     "slide_type": "fragment"
    }
   },
   "outputs": [
    {
     "name": "stdout",
     "output_type": "stream",
     "text": [
      "Ignored 0\n",
      "Ignored 1\n",
      "Ignored 2\n",
      "Ignored 3\n",
      "Processed 4\n",
      "Processed 5\n",
      "Processed 6\n",
      "Processed 7\n",
      "Processed 8\n",
      "Processed 9\n"
     ]
    }
   ],
   "source": [
    "for i in range(10):\n",
    "    if i < 4:\n",
    "        print(\"Ignored\",i)\n",
    "        continue\n",
    "    # this statement is not reach if i < 4\n",
    "    print(\"Processed\",i)"
   ]
  },
  {
   "cell_type": "markdown",
   "metadata": {
    "slideshow": {
     "slide_type": "subslide"
    }
   },
   "source": [
    "## Capture d'exceptions"
   ]
  },
  {
   "cell_type": "markdown",
   "metadata": {
    "slideshow": {
     "slide_type": "fragment"
    }
   },
   "source": [
    "Les exceptions permettent de réagir à des erreurs quelque soit la profondeur de leur origine dans la stacktrace\n",
    "```python\n",
    "try:\n",
    "    code\n",
    "except <Exception Type> as <variable name>:\n",
    "    # deal with error of this type\n",
    "except:\n",
    "    # deal with any other error```"
   ]
  },
  {
   "cell_type": "code",
   "execution_count": 4,
   "metadata": {
    "slideshow": {
     "slide_type": "subslide"
    }
   },
   "outputs": [
    {
     "name": "stdout",
     "output_type": "stream",
     "text": [
      "Looping\n",
      "Looping\n",
      "Looping\n",
      "Looping\n",
      "Caught exception: abort\n"
     ]
    }
   ],
   "source": [
    "try:\n",
    "    count=0\n",
    "    while True:\n",
    "        while True:\n",
    "            while True:\n",
    "                print(\"Looping\")\n",
    "                count = count + 1\n",
    "                if count > 3:\n",
    "                    raise Exception(\"abort\") # exit every loop or function\n",
    "except Exception as e: # this is where we go when an exception is raised\n",
    "    print(\"Caught exception:\",e)"
   ]
  },
  {
   "cell_type": "markdown",
   "metadata": {
    "slideshow": {
     "slide_type": "subslide"
    }
   },
   "source": [
    "Peut-être pratique pour se protéger de crash sans connaître précisemment l'origine de l'erreur"
   ]
  },
  {
   "cell_type": "code",
   "execution_count": null,
   "metadata": {
    "slideshow": {
     "slide_type": "fragment"
    }
   },
   "outputs": [],
   "source": [
    "try:\n",
    "    for i in [2,1.5,0.0,3]:\n",
    "        inverse = 1.0/i\n",
    "except: # no matter what exception\n",
    "    print(\"Cannot calculate inverse\")"
   ]
  },
  {
   "cell_type": "markdown",
   "metadata": {
    "slideshow": {
     "slide_type": "fragment"
    }
   },
   "source": [
    "Les exceptions sont très utilisées en python. Un adage souvent utilisé est **\"Easier to ask forgiveness than permission\"**."
   ]
  },
  {
   "cell_type": "code",
   "execution_count": null,
   "metadata": {
    "slideshow": {
     "slide_type": "fragment"
    }
   },
   "outputs": [],
   "source": [
    "nb_retry = 0\n",
    "success = False\n",
    "while not success:\n",
    "    try:\n",
    "        something_that_fails_most_of_the_time()\n",
    "        success = True\n",
    "    except:\n",
    "        nb_retry += 1\n",
    "    finally:  # finally is always executed whether an exception has been catched or not\n",
    "        if nb_retry < 5:\n",
    "            time.sleep(5)\n",
    "            continue\n",
    "        else:\n",
    "            raise Exception(\"could not succeed\")"
   ]
  },
  {
   "cell_type": "markdown",
   "metadata": {
    "slideshow": {
     "slide_type": "fragment"
    }
   },
   "source": [
    "Lorsqu'un exception est soulevée, elle \"remonte\" jusqu'à être capturées par un except, eventuellement en traversant un ensemble de fonctions."
   ]
  },
  {
   "cell_type": "markdown",
   "metadata": {
    "slideshow": {
     "slide_type": "subslide"
    }
   },
   "source": [
    "## Apparté sur les iterables"
   ]
  },
  {
   "cell_type": "markdown",
   "metadata": {
    "slideshow": {
     "slide_type": "fragment"
    }
   },
   "source": [
    "**note**: cet apparté a une faible valeur pratique, surtout pour les débutants. Mais notion au coeur du design de python et qui a de l'intérêt en soi "
   ]
  },
  {
   "cell_type": "markdown",
   "metadata": {
    "slideshow": {
     "slide_type": "subslide"
    }
   },
   "source": [
    "## Les protocoles."
   ]
  },
  {
   "cell_type": "markdown",
   "metadata": {
    "slideshow": {
     "slide_type": "fragment"
    }
   },
   "source": [
    "- Les objets en pythons implémentent des protocoles.\n",
    "\n",
    "- Pour vérifier si un objet implémente un protocole, on peut utiliser **isinstance()**."
   ]
  },
  {
   "cell_type": "code",
   "execution_count": 5,
   "metadata": {
    "slideshow": {
     "slide_type": "subslide"
    }
   },
   "outputs": [
    {
     "name": "stdout",
     "output_type": "stream",
     "text": [
      "True\n",
      "True\n",
      "True\n",
      "True\n",
      "False\n"
     ]
    }
   ],
   "source": [
    "from collections.abc import Iterable\n",
    "print(isinstance(\"abc\", Iterable))\n",
    "print(isinstance([1, 2], Iterable))\n",
    "print(isinstance((1, 2), Iterable))  # tuple (liste immutable) cf cours suivant\n",
    "print(isinstance(range(10**100), Iterable))\n",
    "print(isinstance(5, Iterable))"
   ]
  },
  {
   "cell_type": "markdown",
   "metadata": {
    "slideshow": {
     "slide_type": "subslide"
    }
   },
   "source": [
    "Supposons que l'on veuille non seulement pouvoir iterer sur l'objet en question, mais aussi acceder et modifier un élément à un index défini (ex: `x[8] = \"a\"`). Alors, le protocole recherché n'est plus un iterable, mais une `MutableSequence`"
   ]
  },
  {
   "cell_type": "code",
   "execution_count": 6,
   "metadata": {
    "slideshow": {
     "slide_type": "fragment"
    }
   },
   "outputs": [
    {
     "name": "stdout",
     "output_type": "stream",
     "text": [
      "False\n",
      "True\n",
      "False\n",
      "False\n"
     ]
    }
   ],
   "source": [
    "from collections.abc import MutableSequence\n",
    "print(isinstance(\"abc\", MutableSequence))  # False\n",
    "print(isinstance([1, 2], MutableSequence)) # True\n",
    "print(isinstance((1, 2), MutableSequence)) # False\n",
    "print(isinstance(range(10**100), MutableSequence)) # False"
   ]
  },
  {
   "cell_type": "markdown",
   "metadata": {
    "slideshow": {
     "slide_type": "subslide"
    }
   },
   "source": [
    "Il est possible de :\n",
    "- Créer vos propres protocoles\n",
    "- Indiquer que vos classes suivent certains protocoles\n",
    "\n",
    "En savoir plus sur les différents protocoles :\n",
    "- https://docs.python.org/3/library/collections.abc.html\n",
    "\n",
    "Au lieu du terme \"protocole\", on parle parfois de classes abtraites ou même d'interfaces"
   ]
  },
  {
   "cell_type": "markdown",
   "metadata": {
    "slideshow": {
     "slide_type": "subslide"
    }
   },
   "source": [
    "Beaucoup de fonctions pythons attendent des iterables sans se préoccuper de leur veritable type (generateur, liste, fonction, instance quelconque...). L'important est qu'on puisse obtenir les éléments les un après les autres."
   ]
  },
  {
   "cell_type": "markdown",
   "metadata": {
    "slideshow": {
     "slide_type": "fragment"
    }
   },
   "source": [
    "Ce principe prend souvent le nom de \"duck typing\". Plutôt que forcer le fait qu'une fonction attende une instance d'un canard en argument, on allège la contrainte en désirant un objet qui \"quack like a duck\" et \"swim like a duck\". => **plus de flexibilité**"
   ]
  },
  {
   "cell_type": "markdown",
   "metadata": {
    "slideshow": {
     "slide_type": "slide"
    }
   },
   "source": [
    "Exemple de **any** et **all** (built-ins que nous n'avions pas vu jusqu'à présent)"
   ]
  },
  {
   "cell_type": "code",
   "execution_count": 7,
   "metadata": {
    "slideshow": {
     "slide_type": "fragment"
    }
   },
   "outputs": [
    {
     "data": {
      "text/plain": [
       "True"
      ]
     },
     "execution_count": 7,
     "metadata": {},
     "output_type": "execute_result"
    }
   ],
   "source": [
    "any([True, False])"
   ]
  },
  {
   "cell_type": "code",
   "execution_count": 8,
   "metadata": {
    "slideshow": {
     "slide_type": "fragment"
    }
   },
   "outputs": [
    {
     "data": {
      "text/plain": [
       "True"
      ]
     },
     "execution_count": 8,
     "metadata": {},
     "output_type": "execute_result"
    }
   ],
   "source": [
    "any(i%7==0 for i in range(100))  # au moins un nombre de 1 à 100 divisible par 7 ?"
   ]
  },
  {
   "cell_type": "code",
   "execution_count": 10,
   "metadata": {
    "slideshow": {
     "slide_type": "fragment"
    }
   },
   "outputs": [
    {
     "data": {
      "text/plain": [
       "False"
      ]
     },
     "execution_count": 10,
     "metadata": {},
     "output_type": "execute_result"
    }
   ],
   "source": [
    "all(i%2==0 for i in range(100))  # tous les nombres de 1 à 100 divisible par 2 ?"
   ]
  },
  {
   "cell_type": "markdown",
   "metadata": {
    "slideshow": {
     "slide_type": "fragment"
    }
   },
   "source": [
    "any et all attendent des iterables car ils ne sont pas toujours obligés de consommer l'integralité de l'iterable pour répondre à la question posée."
   ]
  }
 ],
 "metadata": {
  "celltoolbar": "Slideshow",
  "kernelspec": {
   "display_name": "Python 3",
   "language": "python",
   "name": "python3"
  },
  "language_info": {
   "codemirror_mode": {
    "name": "ipython",
    "version": 3
   },
   "file_extension": ".py",
   "mimetype": "text/x-python",
   "name": "python",
   "nbconvert_exporter": "python",
   "pygments_lexer": "ipython3",
   "version": "3.7.6"
  }
 },
 "nbformat": 4,
 "nbformat_minor": 1
}
